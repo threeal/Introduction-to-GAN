{
 "cells": [
  {
   "cell_type": "markdown",
   "metadata": {
    "colab_type": "text",
    "id": "UvYDZmH_xHPG"
   },
   "source": [
    "# Generative Adversarial Networks\n",
    "This code is based on https://arxiv.org/abs/1406.2661 paper from Ian J. Goodfellow, Jean Pouget-Abadie, et all"
   ]
  },
  {
   "cell_type": "markdown",
   "metadata": {
    "colab_type": "text",
    "id": "iMD0JWn1xHPJ"
   },
   "source": [
    "![title](https://github.com/DSC-UI-SRIN/Introduction-to-GAN/raw/master/1%20-%20Fundamental%20of%20GANs/images/minmax.png)"
   ]
  },
  {
   "cell_type": "code",
   "execution_count": 1,
   "metadata": {
    "colab": {},
    "colab_type": "code",
    "id": "ShCO79wAxHPP"
   },
   "outputs": [
    {
     "output_type": "stream",
     "name": "stdout",
     "text": [
      "using cuda\n"
     ]
    }
   ],
   "source": [
    "# import All prerequisites\n",
    "import torch\n",
    "import torch.nn as nn\n",
    "import torch.nn.functional as F\n",
    "import torch.optim as optim\n",
    "from torchvision import datasets, transforms\n",
    "from torch.autograd import Variable\n",
    "from torchvision.utils import save_image\n",
    "import numpy as np\n",
    "import matplotlib.pyplot as plt\n",
    "import os\n",
    "\n",
    "ROOT = \"./MinMax-NS/\"\n",
    "if not os.path.exists(ROOT):\n",
    "    os.mkdir(ROOT)\n",
    "\n",
    "# Device configuration\n",
    "device = torch.device('cuda' if torch.cuda.is_available() else 'cpu')\n",
    "print(\"using {}\".format(device))"
   ]
  },
  {
   "cell_type": "markdown",
   "metadata": {
    "colab_type": "text",
    "id": "cu6vT-jDxHPT"
   },
   "source": [
    "## Dataset"
   ]
  },
  {
   "cell_type": "code",
   "execution_count": 2,
   "metadata": {
    "colab": {},
    "colab_type": "code",
    "id": "gU5JFzeGxHPU"
   },
   "outputs": [],
   "source": [
    "batch_size = 100\n",
    "\n",
    "# MNIST Dataset\n",
    "transform = transforms.Compose([\n",
    "    transforms.ToTensor(),\n",
    "    transforms.Normalize([0.5], [0.5])])\n",
    "\n",
    "train_dataset = datasets.MNIST(root='./mnist_data/', train=True, transform=transform, download=True)\n",
    "\n",
    "# Data Loader (Input Pipeline)\n",
    "train_loader = torch.utils.data.DataLoader(dataset=train_dataset, batch_size=batch_size, shuffle=True)\n",
    "\n",
    "examples = enumerate(train_loader)\n",
    "batch_idx, (example_data, example_targets) = next(examples)"
   ]
  },
  {
   "cell_type": "code",
   "execution_count": 3,
   "metadata": {
    "colab": {
     "base_uri": "https://localhost:8080/",
     "height": 551
    },
    "colab_type": "code",
    "executionInfo": {
     "elapsed": 2014,
     "status": "ok",
     "timestamp": 1572647285437,
     "user": {
      "displayName": "Muchlisin Adi Saputra 1306365266",
      "photoUrl": "",
      "userId": "17835414831372489696"
     },
     "user_tz": -420
    },
    "id": "Vn1wgnIkxHPX",
    "outputId": "eed50711-1a19-419d-ce5b-f8d0dc323ac6"
   },
   "outputs": [
    {
     "output_type": "display_data",
     "data": {
      "text/plain": "<Figure size 432x288 with 6 Axes>",
      "image/svg+xml": "<?xml version=\"1.0\" encoding=\"utf-8\" standalone=\"no\"?>\n<!DOCTYPE svg PUBLIC \"-//W3C//DTD SVG 1.1//EN\"\n  \"http://www.w3.org/Graphics/SVG/1.1/DTD/svg11.dtd\">\n<!-- Created with matplotlib (https://matplotlib.org/) -->\n<svg height=\"266.418125pt\" version=\"1.1\" viewBox=\"0 0 405.023322 266.418125\" width=\"405.023322pt\" xmlns=\"http://www.w3.org/2000/svg\" xmlns:xlink=\"http://www.w3.org/1999/xlink\">\n <defs>\n  <style type=\"text/css\">\n*{stroke-linecap:butt;stroke-linejoin:round;}\n  </style>\n </defs>\n <g id=\"figure_1\">\n  <g id=\"patch_1\">\n   <path d=\"M 0 266.418125 \nL 405.023322 266.418125 \nL 405.023322 0 \nL 0 0 \nz\n\" style=\"fill:none;\"/>\n  </g>\n  <g id=\"axes_1\">\n   <g id=\"patch_2\">\n    <path d=\"M 10.7 123.868125 \nL 112.25 123.868125 \nL 112.25 22.318125 \nL 10.7 22.318125 \nz\n\" style=\"fill:#ffffff;\"/>\n   </g>\n   <g clip-path=\"url(#pac3281e1b2)\">\n    <image height=\"28\" id=\"imageb61ce332a3\" transform=\"matrix(3.642857 0 0 3.642857 10.7 21.868125)\" width=\"28\" xlink:href=\"data:image/png;base64,\niVBORw0KGgoAAAANSUhEUgAAABwAAAAcCAYAAAByDd+UAAAABHNCSVQICAgIfAhkiAAAApZJREFUSIntlj9IanEUx881UyopNV2kIf9QQ2ukXAR1aqnJoYSgTXB0qsGhcKilqUEQJGiqIUQkCCEcRMdoaowgEu4NG7wU+Of4bXh434uX3npd4j14B85yv4fzued3v/f3+wlEBPrGMHwn7D/wTXi9XkokEvTw8EC9Xo8AEADa3Nz8NBRaubGxgZeXFzAzmBkXFxcoFAooFApQFAUHBweaPX7JwaIgCIjFYnh+fgYz4/z8HIFAACMjI2rN/Pw8gsGgPsDl5WV1qqOjI81mS0tLyGQyyGQyb17qw8BkMglmxv39Pex2+8A6h8OB09NTdDodSJKEnZ0dGAyGPweurKwMrJmamkK1WgUz4+zsDA6HY+gqGDUMRUREY2NjA7X9/X0KBAKUz+dpfX2dut2uZj/NCR8fH+F0On/TZ2dnoSgKrq+vYbFYvm4aURRRqVTAzKjX6xBFERMTE6peLpehKAoWFxf1cSkRwWq14vLyUnXr7e0tgsEgRFGELMs4Pj7+DEwbSESw2+3IZrMqtN1uQ5ZlMDPm5ub0BxL92ASsViv29vbQ7XZVeL1eRyKRwOjoqL7AfjqdTjw9PYGZcXV1hbu7O3W7C4fDmJ6e1he4trYGZsbJyQnGx8fh8XhQLBbViQ8PD2Gz2fQBmkwmVKtVSJKEhYUF9fnMzAy2trbQaDTAzMjlchAE4evAVCoFZsbu7u67ut/vhyRJYOaB3/RTB7Db7R6qx+NxMpvNdHNzQ71e792aD21t/Wg2m0RENDk5SURELpeLQqEQra6uUjQaJaPRSLIsUzqdJmYe2OfDS+rz+dBoNNBqtVAsFlW39rNUKkEURX1dGolEUKvVVEitVsP29jZ8Pt+wI+nn/9ynflf8vbe2fxb4CsZC4w4qLujDAAAAAElFTkSuQmCC\"/>\n   </g>\n   <g id=\"matplotlib.axis_1\"/>\n   <g id=\"matplotlib.axis_2\"/>\n   <g id=\"patch_3\">\n    <path d=\"M 10.7 123.868125 \nL 10.7 22.318125 \n\" style=\"fill:none;stroke:#000000;stroke-linecap:square;stroke-linejoin:miter;stroke-width:0.8;\"/>\n   </g>\n   <g id=\"patch_4\">\n    <path d=\"M 112.25 123.868125 \nL 112.25 22.318125 \n\" style=\"fill:none;stroke:#000000;stroke-linecap:square;stroke-linejoin:miter;stroke-width:0.8;\"/>\n   </g>\n   <g id=\"patch_5\">\n    <path d=\"M 10.7 123.868125 \nL 112.25 123.868125 \n\" style=\"fill:none;stroke:#000000;stroke-linecap:square;stroke-linejoin:miter;stroke-width:0.8;\"/>\n   </g>\n   <g id=\"patch_6\">\n    <path d=\"M 10.7 22.318125 \nL 112.25 22.318125 \n\" style=\"fill:none;stroke:#000000;stroke-linecap:square;stroke-linejoin:miter;stroke-width:0.8;\"/>\n   </g>\n   <g id=\"text_1\">\n    <!-- Ground Truth: 8 -->\n    <defs>\n     <path d=\"M 59.515625 10.40625 \nL 59.515625 29.984375 \nL 43.40625 29.984375 \nL 43.40625 38.09375 \nL 69.28125 38.09375 \nL 69.28125 6.78125 \nQ 63.578125 2.734375 56.6875 0.65625 \nQ 49.8125 -1.421875 42 -1.421875 \nQ 24.90625 -1.421875 15.25 8.5625 \nQ 5.609375 18.5625 5.609375 36.375 \nQ 5.609375 54.25 15.25 64.234375 \nQ 24.90625 74.21875 42 74.21875 \nQ 49.125 74.21875 55.546875 72.453125 \nQ 61.96875 70.703125 67.390625 67.28125 \nL 67.390625 56.78125 \nQ 61.921875 61.421875 55.765625 63.765625 \nQ 49.609375 66.109375 42.828125 66.109375 \nQ 29.4375 66.109375 22.71875 58.640625 \nQ 16.015625 51.171875 16.015625 36.375 \nQ 16.015625 21.625 22.71875 14.15625 \nQ 29.4375 6.6875 42.828125 6.6875 \nQ 48.046875 6.6875 52.140625 7.59375 \nQ 56.25 8.5 59.515625 10.40625 \nz\n\" id=\"DejaVuSans-71\"/>\n     <path d=\"M 41.109375 46.296875 \nQ 39.59375 47.171875 37.8125 47.578125 \nQ 36.03125 48 33.890625 48 \nQ 26.265625 48 22.1875 43.046875 \nQ 18.109375 38.09375 18.109375 28.8125 \nL 18.109375 0 \nL 9.078125 0 \nL 9.078125 54.6875 \nL 18.109375 54.6875 \nL 18.109375 46.1875 \nQ 20.953125 51.171875 25.484375 53.578125 \nQ 30.03125 56 36.53125 56 \nQ 37.453125 56 38.578125 55.875 \nQ 39.703125 55.765625 41.0625 55.515625 \nz\n\" id=\"DejaVuSans-114\"/>\n     <path d=\"M 30.609375 48.390625 \nQ 23.390625 48.390625 19.1875 42.75 \nQ 14.984375 37.109375 14.984375 27.296875 \nQ 14.984375 17.484375 19.15625 11.84375 \nQ 23.34375 6.203125 30.609375 6.203125 \nQ 37.796875 6.203125 41.984375 11.859375 \nQ 46.1875 17.53125 46.1875 27.296875 \nQ 46.1875 37.015625 41.984375 42.703125 \nQ 37.796875 48.390625 30.609375 48.390625 \nz\nM 30.609375 56 \nQ 42.328125 56 49.015625 48.375 \nQ 55.71875 40.765625 55.71875 27.296875 \nQ 55.71875 13.875 49.015625 6.21875 \nQ 42.328125 -1.421875 30.609375 -1.421875 \nQ 18.84375 -1.421875 12.171875 6.21875 \nQ 5.515625 13.875 5.515625 27.296875 \nQ 5.515625 40.765625 12.171875 48.375 \nQ 18.84375 56 30.609375 56 \nz\n\" id=\"DejaVuSans-111\"/>\n     <path d=\"M 8.5 21.578125 \nL 8.5 54.6875 \nL 17.484375 54.6875 \nL 17.484375 21.921875 \nQ 17.484375 14.15625 20.5 10.265625 \nQ 23.53125 6.390625 29.59375 6.390625 \nQ 36.859375 6.390625 41.078125 11.03125 \nQ 45.3125 15.671875 45.3125 23.6875 \nL 45.3125 54.6875 \nL 54.296875 54.6875 \nL 54.296875 0 \nL 45.3125 0 \nL 45.3125 8.40625 \nQ 42.046875 3.421875 37.71875 1 \nQ 33.40625 -1.421875 27.6875 -1.421875 \nQ 18.265625 -1.421875 13.375 4.4375 \nQ 8.5 10.296875 8.5 21.578125 \nz\nM 31.109375 56 \nz\n\" id=\"DejaVuSans-117\"/>\n     <path d=\"M 54.890625 33.015625 \nL 54.890625 0 \nL 45.90625 0 \nL 45.90625 32.71875 \nQ 45.90625 40.484375 42.875 44.328125 \nQ 39.84375 48.1875 33.796875 48.1875 \nQ 26.515625 48.1875 22.3125 43.546875 \nQ 18.109375 38.921875 18.109375 30.90625 \nL 18.109375 0 \nL 9.078125 0 \nL 9.078125 54.6875 \nL 18.109375 54.6875 \nL 18.109375 46.1875 \nQ 21.34375 51.125 25.703125 53.5625 \nQ 30.078125 56 35.796875 56 \nQ 45.21875 56 50.046875 50.171875 \nQ 54.890625 44.34375 54.890625 33.015625 \nz\n\" id=\"DejaVuSans-110\"/>\n     <path d=\"M 45.40625 46.390625 \nL 45.40625 75.984375 \nL 54.390625 75.984375 \nL 54.390625 0 \nL 45.40625 0 \nL 45.40625 8.203125 \nQ 42.578125 3.328125 38.25 0.953125 \nQ 33.9375 -1.421875 27.875 -1.421875 \nQ 17.96875 -1.421875 11.734375 6.484375 \nQ 5.515625 14.40625 5.515625 27.296875 \nQ 5.515625 40.1875 11.734375 48.09375 \nQ 17.96875 56 27.875 56 \nQ 33.9375 56 38.25 53.625 \nQ 42.578125 51.265625 45.40625 46.390625 \nz\nM 14.796875 27.296875 \nQ 14.796875 17.390625 18.875 11.75 \nQ 22.953125 6.109375 30.078125 6.109375 \nQ 37.203125 6.109375 41.296875 11.75 \nQ 45.40625 17.390625 45.40625 27.296875 \nQ 45.40625 37.203125 41.296875 42.84375 \nQ 37.203125 48.484375 30.078125 48.484375 \nQ 22.953125 48.484375 18.875 42.84375 \nQ 14.796875 37.203125 14.796875 27.296875 \nz\n\" id=\"DejaVuSans-100\"/>\n     <path id=\"DejaVuSans-32\"/>\n     <path d=\"M -0.296875 72.90625 \nL 61.375 72.90625 \nL 61.375 64.59375 \nL 35.5 64.59375 \nL 35.5 0 \nL 25.59375 0 \nL 25.59375 64.59375 \nL -0.296875 64.59375 \nz\n\" id=\"DejaVuSans-84\"/>\n     <path d=\"M 18.3125 70.21875 \nL 18.3125 54.6875 \nL 36.8125 54.6875 \nL 36.8125 47.703125 \nL 18.3125 47.703125 \nL 18.3125 18.015625 \nQ 18.3125 11.328125 20.140625 9.421875 \nQ 21.96875 7.515625 27.59375 7.515625 \nL 36.8125 7.515625 \nL 36.8125 0 \nL 27.59375 0 \nQ 17.1875 0 13.234375 3.875 \nQ 9.28125 7.765625 9.28125 18.015625 \nL 9.28125 47.703125 \nL 2.6875 47.703125 \nL 2.6875 54.6875 \nL 9.28125 54.6875 \nL 9.28125 70.21875 \nz\n\" id=\"DejaVuSans-116\"/>\n     <path d=\"M 54.890625 33.015625 \nL 54.890625 0 \nL 45.90625 0 \nL 45.90625 32.71875 \nQ 45.90625 40.484375 42.875 44.328125 \nQ 39.84375 48.1875 33.796875 48.1875 \nQ 26.515625 48.1875 22.3125 43.546875 \nQ 18.109375 38.921875 18.109375 30.90625 \nL 18.109375 0 \nL 9.078125 0 \nL 9.078125 75.984375 \nL 18.109375 75.984375 \nL 18.109375 46.1875 \nQ 21.34375 51.125 25.703125 53.5625 \nQ 30.078125 56 35.796875 56 \nQ 45.21875 56 50.046875 50.171875 \nQ 54.890625 44.34375 54.890625 33.015625 \nz\n\" id=\"DejaVuSans-104\"/>\n     <path d=\"M 11.71875 12.40625 \nL 22.015625 12.40625 \nL 22.015625 0 \nL 11.71875 0 \nz\nM 11.71875 51.703125 \nL 22.015625 51.703125 \nL 22.015625 39.3125 \nL 11.71875 39.3125 \nz\n\" id=\"DejaVuSans-58\"/>\n     <path d=\"M 31.78125 34.625 \nQ 24.75 34.625 20.71875 30.859375 \nQ 16.703125 27.09375 16.703125 20.515625 \nQ 16.703125 13.921875 20.71875 10.15625 \nQ 24.75 6.390625 31.78125 6.390625 \nQ 38.8125 6.390625 42.859375 10.171875 \nQ 46.921875 13.96875 46.921875 20.515625 \nQ 46.921875 27.09375 42.890625 30.859375 \nQ 38.875 34.625 31.78125 34.625 \nz\nM 21.921875 38.8125 \nQ 15.578125 40.375 12.03125 44.71875 \nQ 8.5 49.078125 8.5 55.328125 \nQ 8.5 64.0625 14.71875 69.140625 \nQ 20.953125 74.21875 31.78125 74.21875 \nQ 42.671875 74.21875 48.875 69.140625 \nQ 55.078125 64.0625 55.078125 55.328125 \nQ 55.078125 49.078125 51.53125 44.71875 \nQ 48 40.375 41.703125 38.8125 \nQ 48.828125 37.15625 52.796875 32.3125 \nQ 56.78125 27.484375 56.78125 20.515625 \nQ 56.78125 9.90625 50.3125 4.234375 \nQ 43.84375 -1.421875 31.78125 -1.421875 \nQ 19.734375 -1.421875 13.25 4.234375 \nQ 6.78125 9.90625 6.78125 20.515625 \nQ 6.78125 27.484375 10.78125 32.3125 \nQ 14.796875 37.15625 21.921875 38.8125 \nz\nM 18.3125 54.390625 \nQ 18.3125 48.734375 21.84375 45.5625 \nQ 25.390625 42.390625 31.78125 42.390625 \nQ 38.140625 42.390625 41.71875 45.5625 \nQ 45.3125 48.734375 45.3125 54.390625 \nQ 45.3125 60.0625 41.71875 63.234375 \nQ 38.140625 66.40625 31.78125 66.40625 \nQ 25.390625 66.40625 21.84375 63.234375 \nQ 18.3125 60.0625 18.3125 54.390625 \nz\n\" id=\"DejaVuSans-56\"/>\n    </defs>\n    <g transform=\"translate(13.548125 16.318125)scale(0.12 -0.12)\">\n     <use xlink:href=\"#DejaVuSans-71\"/>\n     <use x=\"77.490234\" xlink:href=\"#DejaVuSans-114\"/>\n     <use x=\"118.572266\" xlink:href=\"#DejaVuSans-111\"/>\n     <use x=\"179.753906\" xlink:href=\"#DejaVuSans-117\"/>\n     <use x=\"243.132812\" xlink:href=\"#DejaVuSans-110\"/>\n     <use x=\"306.511719\" xlink:href=\"#DejaVuSans-100\"/>\n     <use x=\"369.988281\" xlink:href=\"#DejaVuSans-32\"/>\n     <use x=\"401.775391\" xlink:href=\"#DejaVuSans-84\"/>\n     <use x=\"462.640625\" xlink:href=\"#DejaVuSans-114\"/>\n     <use x=\"503.753906\" xlink:href=\"#DejaVuSans-117\"/>\n     <use x=\"567.132812\" xlink:href=\"#DejaVuSans-116\"/>\n     <use x=\"606.341797\" xlink:href=\"#DejaVuSans-104\"/>\n     <use x=\"669.720703\" xlink:href=\"#DejaVuSans-58\"/>\n     <use x=\"703.412109\" xlink:href=\"#DejaVuSans-32\"/>\n     <use x=\"735.199219\" xlink:href=\"#DejaVuSans-56\"/>\n    </g>\n   </g>\n  </g>\n  <g id=\"axes_2\">\n   <g id=\"patch_7\">\n    <path d=\"M 153.486661 123.868125 \nL 255.036661 123.868125 \nL 255.036661 22.318125 \nL 153.486661 22.318125 \nz\n\" style=\"fill:#ffffff;\"/>\n   </g>\n   <g clip-path=\"url(#p89cd00cff7)\">\n    <image height=\"28\" id=\"imagef3527972b1\" transform=\"matrix(3.642857 0 0 3.642857 153.486661 21.868125)\" width=\"28\" xlink:href=\"data:image/png;base64,\niVBORw0KGgoAAAANSUhEUgAAABwAAAAcCAYAAAByDd+UAAAABHNCSVQICAgIfAhkiAAAAkdJREFUSInllr1rIlEUxY9mTaKIEIuglRYWFoPtGImkSCPYKhaCgp1/gK22qUKI2KhFsMxHkULSiZBGIqMhkFrslBACkRH84J1tNrJRN46usdg9cGCKd9/v3jv3MqMDQGxQ+k3C/g/gj2UOGwwGOBwOxONxJBIJ9Ho9XF1dAQDOz8/x9vaG8Xi88B5q9fX1Nd/f3zkajaiqKvv9PoUQEzcaDZpMpkX3aAd+OBwO02az0eVyMZPJ8PX1lUIIkqTVal0/EAC9Xi9zudwEdn9/z2Qyyd3d3fUDfT4fu90uVVVlq9ViKpXi4eGh1vjlYG63m51Oh+12m5FIZJXuaD9sMplYLBYphKAsyyu9iqWAp6enFELw7u5Oy3DMtebFt9vtCAaDAIDb21vs7+9rDZ2R5uzK5fJk515eXpjNZnl0dESj0fg9LZUkiZeXl5+WXQjBh4cHhkIh7uzsrH9KLRYLZVmmLMuMx+NUFGUCVhSFFotlvcBp7+3tsVAoUFVVCiGYz+cpSdL3AT8ciURYr9cphODJycnfT+kiKYqC5+fnheeW+jzNUygUgt/vRzQahdVqBQA8Pj5+GbNSC8/OzthsNjkajSZD8/T0RKfTSb1e/8e4mQq9Xi9qtRqOj4/h8XjmZhiLxSBJEra2tgAAFxcXqFaruLm5gaqqC7syoW9vb3MwGLDX63E4HM7s2+9Op9M0m800m81fVjRt3a8HAIBOp0MgEMDBwcFMVuFwGM1mE5VKBaVSCePxGEKIhdVM6xNwE/r3fxM3DvwJAMiB8NUauWMAAAAASUVORK5CYII=\"/>\n   </g>\n   <g id=\"matplotlib.axis_3\"/>\n   <g id=\"matplotlib.axis_4\"/>\n   <g id=\"patch_8\">\n    <path d=\"M 153.486661 123.868125 \nL 153.486661 22.318125 \n\" style=\"fill:none;stroke:#000000;stroke-linecap:square;stroke-linejoin:miter;stroke-width:0.8;\"/>\n   </g>\n   <g id=\"patch_9\">\n    <path d=\"M 255.036661 123.868125 \nL 255.036661 22.318125 \n\" style=\"fill:none;stroke:#000000;stroke-linecap:square;stroke-linejoin:miter;stroke-width:0.8;\"/>\n   </g>\n   <g id=\"patch_10\">\n    <path d=\"M 153.486661 123.868125 \nL 255.036661 123.868125 \n\" style=\"fill:none;stroke:#000000;stroke-linecap:square;stroke-linejoin:miter;stroke-width:0.8;\"/>\n   </g>\n   <g id=\"patch_11\">\n    <path d=\"M 153.486661 22.318125 \nL 255.036661 22.318125 \n\" style=\"fill:none;stroke:#000000;stroke-linecap:square;stroke-linejoin:miter;stroke-width:0.8;\"/>\n   </g>\n   <g id=\"text_2\">\n    <!-- Ground Truth: 3 -->\n    <defs>\n     <path d=\"M 40.578125 39.3125 \nQ 47.65625 37.796875 51.625 33 \nQ 55.609375 28.21875 55.609375 21.1875 \nQ 55.609375 10.40625 48.1875 4.484375 \nQ 40.765625 -1.421875 27.09375 -1.421875 \nQ 22.515625 -1.421875 17.65625 -0.515625 \nQ 12.796875 0.390625 7.625 2.203125 \nL 7.625 11.71875 \nQ 11.71875 9.328125 16.59375 8.109375 \nQ 21.484375 6.890625 26.8125 6.890625 \nQ 36.078125 6.890625 40.9375 10.546875 \nQ 45.796875 14.203125 45.796875 21.1875 \nQ 45.796875 27.640625 41.28125 31.265625 \nQ 36.765625 34.90625 28.71875 34.90625 \nL 20.21875 34.90625 \nL 20.21875 43.015625 \nL 29.109375 43.015625 \nQ 36.375 43.015625 40.234375 45.921875 \nQ 44.09375 48.828125 44.09375 54.296875 \nQ 44.09375 59.90625 40.109375 62.90625 \nQ 36.140625 65.921875 28.71875 65.921875 \nQ 24.65625 65.921875 20.015625 65.03125 \nQ 15.375 64.15625 9.8125 62.3125 \nL 9.8125 71.09375 \nQ 15.4375 72.65625 20.34375 73.4375 \nQ 25.25 74.21875 29.59375 74.21875 \nQ 40.828125 74.21875 47.359375 69.109375 \nQ 53.90625 64.015625 53.90625 55.328125 \nQ 53.90625 49.265625 50.4375 45.09375 \nQ 46.96875 40.921875 40.578125 39.3125 \nz\n\" id=\"DejaVuSans-51\"/>\n    </defs>\n    <g transform=\"translate(156.334786 16.318125)scale(0.12 -0.12)\">\n     <use xlink:href=\"#DejaVuSans-71\"/>\n     <use x=\"77.490234\" xlink:href=\"#DejaVuSans-114\"/>\n     <use x=\"118.572266\" xlink:href=\"#DejaVuSans-111\"/>\n     <use x=\"179.753906\" xlink:href=\"#DejaVuSans-117\"/>\n     <use x=\"243.132812\" xlink:href=\"#DejaVuSans-110\"/>\n     <use x=\"306.511719\" xlink:href=\"#DejaVuSans-100\"/>\n     <use x=\"369.988281\" xlink:href=\"#DejaVuSans-32\"/>\n     <use x=\"401.775391\" xlink:href=\"#DejaVuSans-84\"/>\n     <use x=\"462.640625\" xlink:href=\"#DejaVuSans-114\"/>\n     <use x=\"503.753906\" xlink:href=\"#DejaVuSans-117\"/>\n     <use x=\"567.132812\" xlink:href=\"#DejaVuSans-116\"/>\n     <use x=\"606.341797\" xlink:href=\"#DejaVuSans-104\"/>\n     <use x=\"669.720703\" xlink:href=\"#DejaVuSans-58\"/>\n     <use x=\"703.412109\" xlink:href=\"#DejaVuSans-32\"/>\n     <use x=\"735.199219\" xlink:href=\"#DejaVuSans-51\"/>\n    </g>\n   </g>\n  </g>\n  <g id=\"axes_3\">\n   <g id=\"patch_12\">\n    <path d=\"M 296.273322 123.868125 \nL 397.823322 123.868125 \nL 397.823322 22.318125 \nL 296.273322 22.318125 \nz\n\" style=\"fill:#ffffff;\"/>\n   </g>\n   <g clip-path=\"url(#pe4fb08316a)\">\n    <image height=\"28\" id=\"image63bbb6fd67\" transform=\"matrix(3.642857 0 0 3.642857 296.273322 21.868125)\" width=\"28\" xlink:href=\"data:image/png;base64,\niVBORw0KGgoAAAANSUhEUgAAABwAAAAcCAYAAAByDd+UAAAABHNCSVQICAgIfAhkiAAAAeZJREFUSInt1s/LKWEUB/BDmoWajSkNpXcnO4vxL9hRZmdn6Q+QrFjaWU2RUhY2svIP2Cg1IWXFVhNFKdPsOI/vXZl6u13vEG637lNTc2rO+Ty/To2PiEAfHP5PYi8Ba7UabbdbCgaDnnPw7KPrOhzHgRAC3W7Xa95zmKIoWK1WYGY4jgNd198HyrKM8XgMZgYzY7PZPJL/OJhIJCCEgBACtm1D07T3gdFoFOv12l1dqVR6dMKPgc1mE0IIMDMMw4AkSe8D4/E4jscjhBCwLAtfX1/PXDjvHxuGASEELpcLqtXqM5h3UJZlLJdLMDNM03wW8w4WCgX3omQyGSiKgmQyiXq9juFw+FpQlmUsFgswM1qtltuHp9MJzIzz+QzTNBGJRF4DxmIxt+/a7Tbm87kbCyEAAEIIpNPp14G37WRmty2YGdPpFLPZDMyMfr//GrBcLv8G7vd75HI5SJLkTuhwOCAcDt+tFSAPQ1XVb/FutyNN0+hwOJCmaZTNZomIKBQKkSRJd2t5AomIfD6f+z4YDKhSqVA+nydVVcnv99P1eqXJZEK2bf9Y68ctbTQafzzDWzwajaAoymvOMJVK3QU7nY5XzBsYCARQLBZhWdY3sNfrIZFIPNL08N3UT41/76/tP/jXwV+Igvrr/ccEQQAAAABJRU5ErkJggg==\"/>\n   </g>\n   <g id=\"matplotlib.axis_5\"/>\n   <g id=\"matplotlib.axis_6\"/>\n   <g id=\"patch_13\">\n    <path d=\"M 296.273322 123.868125 \nL 296.273322 22.318125 \n\" style=\"fill:none;stroke:#000000;stroke-linecap:square;stroke-linejoin:miter;stroke-width:0.8;\"/>\n   </g>\n   <g id=\"patch_14\">\n    <path d=\"M 397.823322 123.868125 \nL 397.823322 22.318125 \n\" style=\"fill:none;stroke:#000000;stroke-linecap:square;stroke-linejoin:miter;stroke-width:0.8;\"/>\n   </g>\n   <g id=\"patch_15\">\n    <path d=\"M 296.273322 123.868125 \nL 397.823322 123.868125 \n\" style=\"fill:none;stroke:#000000;stroke-linecap:square;stroke-linejoin:miter;stroke-width:0.8;\"/>\n   </g>\n   <g id=\"patch_16\">\n    <path d=\"M 296.273322 22.318125 \nL 397.823322 22.318125 \n\" style=\"fill:none;stroke:#000000;stroke-linecap:square;stroke-linejoin:miter;stroke-width:0.8;\"/>\n   </g>\n   <g id=\"text_3\">\n    <!-- Ground Truth: 6 -->\n    <defs>\n     <path d=\"M 33.015625 40.375 \nQ 26.375 40.375 22.484375 35.828125 \nQ 18.609375 31.296875 18.609375 23.390625 \nQ 18.609375 15.53125 22.484375 10.953125 \nQ 26.375 6.390625 33.015625 6.390625 \nQ 39.65625 6.390625 43.53125 10.953125 \nQ 47.40625 15.53125 47.40625 23.390625 \nQ 47.40625 31.296875 43.53125 35.828125 \nQ 39.65625 40.375 33.015625 40.375 \nz\nM 52.59375 71.296875 \nL 52.59375 62.3125 \nQ 48.875 64.0625 45.09375 64.984375 \nQ 41.3125 65.921875 37.59375 65.921875 \nQ 27.828125 65.921875 22.671875 59.328125 \nQ 17.53125 52.734375 16.796875 39.40625 \nQ 19.671875 43.65625 24.015625 45.921875 \nQ 28.375 48.1875 33.59375 48.1875 \nQ 44.578125 48.1875 50.953125 41.515625 \nQ 57.328125 34.859375 57.328125 23.390625 \nQ 57.328125 12.15625 50.6875 5.359375 \nQ 44.046875 -1.421875 33.015625 -1.421875 \nQ 20.359375 -1.421875 13.671875 8.265625 \nQ 6.984375 17.96875 6.984375 36.375 \nQ 6.984375 53.65625 15.1875 63.9375 \nQ 23.390625 74.21875 37.203125 74.21875 \nQ 40.921875 74.21875 44.703125 73.484375 \nQ 48.484375 72.75 52.59375 71.296875 \nz\n\" id=\"DejaVuSans-54\"/>\n    </defs>\n    <g transform=\"translate(299.121447 16.318125)scale(0.12 -0.12)\">\n     <use xlink:href=\"#DejaVuSans-71\"/>\n     <use x=\"77.490234\" xlink:href=\"#DejaVuSans-114\"/>\n     <use x=\"118.572266\" xlink:href=\"#DejaVuSans-111\"/>\n     <use x=\"179.753906\" xlink:href=\"#DejaVuSans-117\"/>\n     <use x=\"243.132812\" xlink:href=\"#DejaVuSans-110\"/>\n     <use x=\"306.511719\" xlink:href=\"#DejaVuSans-100\"/>\n     <use x=\"369.988281\" xlink:href=\"#DejaVuSans-32\"/>\n     <use x=\"401.775391\" xlink:href=\"#DejaVuSans-84\"/>\n     <use x=\"462.640625\" xlink:href=\"#DejaVuSans-114\"/>\n     <use x=\"503.753906\" xlink:href=\"#DejaVuSans-117\"/>\n     <use x=\"567.132812\" xlink:href=\"#DejaVuSans-116\"/>\n     <use x=\"606.341797\" xlink:href=\"#DejaVuSans-104\"/>\n     <use x=\"669.720703\" xlink:href=\"#DejaVuSans-58\"/>\n     <use x=\"703.412109\" xlink:href=\"#DejaVuSans-32\"/>\n     <use x=\"735.199219\" xlink:href=\"#DejaVuSans-54\"/>\n    </g>\n   </g>\n  </g>\n  <g id=\"axes_4\">\n   <g id=\"patch_17\">\n    <path d=\"M 10.7 255.718125 \nL 112.25 255.718125 \nL 112.25 154.168125 \nL 10.7 154.168125 \nz\n\" style=\"fill:#ffffff;\"/>\n   </g>\n   <g clip-path=\"url(#p02f3d35def)\">\n    <image height=\"28\" id=\"image0d550110f4\" transform=\"matrix(3.642857 0 0 3.642857 10.7 153.718125)\" width=\"28\" xlink:href=\"data:image/png;base64,\niVBORw0KGgoAAAANSUhEUgAAABwAAAAcCAYAAAByDd+UAAAABHNCSVQICAgIfAhkiAAAAihJREFUSIntlj2vKWEQx/9EsrajoBCdQmKpRCdBpUQiUUgkPoBPIFGriERovJRaag3ZRtChEC+tQiIUsoXnMbeyuXsv51ruObknuZNMM/PM/mZm/9l9DAAIX2jGr4R9H6DJZIIkSRAE4SUo6fVisUiMMWo0GrprTXo6c7vd6HQ68Pl8AABBEGC32xGLxbBarTAYDP7OhBaLhcLhMHHOiTGm8VtsPB6TzWZ7ZsqPD4iiSP1+X/Pwe0DGGCWTydeBZrOZ8vk8nc9n4pwT55yu1yttt1tqtVoUj8cJAEmSRJxzOp1O5HK5Xgc2m83fpqnX62SxWDTn8vk8McZIluVnhXM/8fOqZrMZJRKJu+s+n8/EGKNCofAecDQaqTCn03lXSP1+nzjntNvtyO/3vwcUBIE8Hs9d5YmiSKVSSRXN7X2+BfzIK5WKKqRer6e3Xh+sXC6ToijEGKPlcqm72aeBoihSpVJRYYqiUDqd/hygJEk0nU5V5SqKQtls9hXYn4G1Wo02m43mq1Iul1+FkeFG/dWCwSA6nQ4cDocaMxqNuF6vaLfbUBQFi8UC8/kcqVRKUxsKhbBerxGNRmE2m1Gr1ZDL5QAAD4GccxBpUwaD4aWYLMuIRCIAAF2/p0d2PB5xuVw0wG63i2g0isPhgEwmo+YeAqvVKrxeLyaTCabTKbxeL6xWKzabDRwOBwKBAObzOWRZxnA4xH6/f6q5hyv9LPsel6j/wH8K+AORxZlDas01pgAAAABJRU5ErkJggg==\"/>\n   </g>\n   <g id=\"matplotlib.axis_7\"/>\n   <g id=\"matplotlib.axis_8\"/>\n   <g id=\"patch_18\">\n    <path d=\"M 10.7 255.718125 \nL 10.7 154.168125 \n\" style=\"fill:none;stroke:#000000;stroke-linecap:square;stroke-linejoin:miter;stroke-width:0.8;\"/>\n   </g>\n   <g id=\"patch_19\">\n    <path d=\"M 112.25 255.718125 \nL 112.25 154.168125 \n\" style=\"fill:none;stroke:#000000;stroke-linecap:square;stroke-linejoin:miter;stroke-width:0.8;\"/>\n   </g>\n   <g id=\"patch_20\">\n    <path d=\"M 10.7 255.718125 \nL 112.25 255.718125 \n\" style=\"fill:none;stroke:#000000;stroke-linecap:square;stroke-linejoin:miter;stroke-width:0.8;\"/>\n   </g>\n   <g id=\"patch_21\">\n    <path d=\"M 10.7 154.168125 \nL 112.25 154.168125 \n\" style=\"fill:none;stroke:#000000;stroke-linecap:square;stroke-linejoin:miter;stroke-width:0.8;\"/>\n   </g>\n   <g id=\"text_4\">\n    <!-- Ground Truth: 2 -->\n    <defs>\n     <path d=\"M 19.1875 8.296875 \nL 53.609375 8.296875 \nL 53.609375 0 \nL 7.328125 0 \nL 7.328125 8.296875 \nQ 12.9375 14.109375 22.625 23.890625 \nQ 32.328125 33.6875 34.8125 36.53125 \nQ 39.546875 41.84375 41.421875 45.53125 \nQ 43.3125 49.21875 43.3125 52.78125 \nQ 43.3125 58.59375 39.234375 62.25 \nQ 35.15625 65.921875 28.609375 65.921875 \nQ 23.96875 65.921875 18.8125 64.3125 \nQ 13.671875 62.703125 7.8125 59.421875 \nL 7.8125 69.390625 \nQ 13.765625 71.78125 18.9375 73 \nQ 24.125 74.21875 28.421875 74.21875 \nQ 39.75 74.21875 46.484375 68.546875 \nQ 53.21875 62.890625 53.21875 53.421875 \nQ 53.21875 48.921875 51.53125 44.890625 \nQ 49.859375 40.875 45.40625 35.40625 \nQ 44.1875 33.984375 37.640625 27.21875 \nQ 31.109375 20.453125 19.1875 8.296875 \nz\n\" id=\"DejaVuSans-50\"/>\n    </defs>\n    <g transform=\"translate(13.548125 148.168125)scale(0.12 -0.12)\">\n     <use xlink:href=\"#DejaVuSans-71\"/>\n     <use x=\"77.490234\" xlink:href=\"#DejaVuSans-114\"/>\n     <use x=\"118.572266\" xlink:href=\"#DejaVuSans-111\"/>\n     <use x=\"179.753906\" xlink:href=\"#DejaVuSans-117\"/>\n     <use x=\"243.132812\" xlink:href=\"#DejaVuSans-110\"/>\n     <use x=\"306.511719\" xlink:href=\"#DejaVuSans-100\"/>\n     <use x=\"369.988281\" xlink:href=\"#DejaVuSans-32\"/>\n     <use x=\"401.775391\" xlink:href=\"#DejaVuSans-84\"/>\n     <use x=\"462.640625\" xlink:href=\"#DejaVuSans-114\"/>\n     <use x=\"503.753906\" xlink:href=\"#DejaVuSans-117\"/>\n     <use x=\"567.132812\" xlink:href=\"#DejaVuSans-116\"/>\n     <use x=\"606.341797\" xlink:href=\"#DejaVuSans-104\"/>\n     <use x=\"669.720703\" xlink:href=\"#DejaVuSans-58\"/>\n     <use x=\"703.412109\" xlink:href=\"#DejaVuSans-32\"/>\n     <use x=\"735.199219\" xlink:href=\"#DejaVuSans-50\"/>\n    </g>\n   </g>\n  </g>\n  <g id=\"axes_5\">\n   <g id=\"patch_22\">\n    <path d=\"M 153.486661 255.718125 \nL 255.036661 255.718125 \nL 255.036661 154.168125 \nL 153.486661 154.168125 \nz\n\" style=\"fill:#ffffff;\"/>\n   </g>\n   <g clip-path=\"url(#pd8a06add89)\">\n    <image height=\"28\" id=\"image95f5525f3e\" transform=\"matrix(3.642857 0 0 3.642857 153.486661 153.718125)\" width=\"28\" xlink:href=\"data:image/png;base64,\niVBORw0KGgoAAAANSUhEUgAAABwAAAAcCAYAAAByDd+UAAAABHNCSVQICAgIfAhkiAAAAcNJREFUSIntlbGKwkAQhv+Rw8ImTWpNIcIK5gkEawt9Aru0VtYWvoLYaeMbKIi1iNgpqKAgaGEVJKRIY+U6V13uJCaXDXjVDSxsdpn58s/O7hAAxh9a6i9h/8B/YCL7CNuwLAv9fh8AcDgc/DkRgZmh6zqEECAi7Pd7uK4LANjtdpjP55FQfjWm0ynf7/fAkFJGfo/HY85kMi9jAuDQlDqOEzNJz1ar1WCaprrCfD6fSKGUkieTibpCz/Ow3W4TqVwsFqF7hIi3VNd1aJqGdrsNZsbxeES5XPb3i8UiDMMA83cIIkKhUMD5fA6FhsqPGul0mofDYSClo9EoWdH8Zq1WC41GI7B+uVxwu90ifZXVVatVllKylJKZ2Z/PZrM4/urA5XIZqNLT6cSapv3qq5xSy7JQKpUC67Ztw/O8WDGU1L26d51Oh3O5XNwY8WGVSuXpzKSUvNlsWNd1lZ+OXyiu6wYUKsLiA78e85/AXq+nXHCJ76HjOBgMBsp+sYCGYSCbzYKIkEqlQEQgInS73fcAhRAQQoCZ8Xg8/AZ8vV7fA1ytVliv14H1pD0z1mHX63VuNpt+0di2zaZpKhdNZHt6h30C5VtIkTTvjtIAAAAASUVORK5CYII=\"/>\n   </g>\n   <g id=\"matplotlib.axis_9\"/>\n   <g id=\"matplotlib.axis_10\"/>\n   <g id=\"patch_23\">\n    <path d=\"M 153.486661 255.718125 \nL 153.486661 154.168125 \n\" style=\"fill:none;stroke:#000000;stroke-linecap:square;stroke-linejoin:miter;stroke-width:0.8;\"/>\n   </g>\n   <g id=\"patch_24\">\n    <path d=\"M 255.036661 255.718125 \nL 255.036661 154.168125 \n\" style=\"fill:none;stroke:#000000;stroke-linecap:square;stroke-linejoin:miter;stroke-width:0.8;\"/>\n   </g>\n   <g id=\"patch_25\">\n    <path d=\"M 153.486661 255.718125 \nL 255.036661 255.718125 \n\" style=\"fill:none;stroke:#000000;stroke-linecap:square;stroke-linejoin:miter;stroke-width:0.8;\"/>\n   </g>\n   <g id=\"patch_26\">\n    <path d=\"M 153.486661 154.168125 \nL 255.036661 154.168125 \n\" style=\"fill:none;stroke:#000000;stroke-linecap:square;stroke-linejoin:miter;stroke-width:0.8;\"/>\n   </g>\n   <g id=\"text_5\">\n    <!-- Ground Truth: 7 -->\n    <defs>\n     <path d=\"M 8.203125 72.90625 \nL 55.078125 72.90625 \nL 55.078125 68.703125 \nL 28.609375 0 \nL 18.3125 0 \nL 43.21875 64.59375 \nL 8.203125 64.59375 \nz\n\" id=\"DejaVuSans-55\"/>\n    </defs>\n    <g transform=\"translate(156.334786 148.168125)scale(0.12 -0.12)\">\n     <use xlink:href=\"#DejaVuSans-71\"/>\n     <use x=\"77.490234\" xlink:href=\"#DejaVuSans-114\"/>\n     <use x=\"118.572266\" xlink:href=\"#DejaVuSans-111\"/>\n     <use x=\"179.753906\" xlink:href=\"#DejaVuSans-117\"/>\n     <use x=\"243.132812\" xlink:href=\"#DejaVuSans-110\"/>\n     <use x=\"306.511719\" xlink:href=\"#DejaVuSans-100\"/>\n     <use x=\"369.988281\" xlink:href=\"#DejaVuSans-32\"/>\n     <use x=\"401.775391\" xlink:href=\"#DejaVuSans-84\"/>\n     <use x=\"462.640625\" xlink:href=\"#DejaVuSans-114\"/>\n     <use x=\"503.753906\" xlink:href=\"#DejaVuSans-117\"/>\n     <use x=\"567.132812\" xlink:href=\"#DejaVuSans-116\"/>\n     <use x=\"606.341797\" xlink:href=\"#DejaVuSans-104\"/>\n     <use x=\"669.720703\" xlink:href=\"#DejaVuSans-58\"/>\n     <use x=\"703.412109\" xlink:href=\"#DejaVuSans-32\"/>\n     <use x=\"735.199219\" xlink:href=\"#DejaVuSans-55\"/>\n    </g>\n   </g>\n  </g>\n  <g id=\"axes_6\">\n   <g id=\"patch_27\">\n    <path d=\"M 296.273322 255.718125 \nL 397.823322 255.718125 \nL 397.823322 154.168125 \nL 296.273322 154.168125 \nz\n\" style=\"fill:#ffffff;\"/>\n   </g>\n   <g clip-path=\"url(#pdf915dc99b)\">\n    <image height=\"28\" id=\"image887968f213\" transform=\"matrix(3.642857 0 0 3.642857 296.273322 153.718125)\" width=\"28\" xlink:href=\"data:image/png;base64,\niVBORw0KGgoAAAANSUhEUgAAABwAAAAcCAYAAAByDd+UAAAABHNCSVQICAgIfAhkiAAAApBJREFUSIntlk1LalEUhl9vIRWI5kAopFkOJGoiCo70HwRBFOEPiMCPQR8Q/ooGTRx5RoEcFULBSYOIogikEqQIBxKOPCCWlSf2e0edq9dvr9fB5S54B2vttdZzWGdv9tYBIMZoP8YJ+w/8N4CTvRL8fj+MRmPXnHg8joeHh76hbJTL5eL+/j5jsRg/Pz8phGgSyZaYqqqMRCL8vVcH/XISiQQ/Pj5aGraTLMt8fn7W/GKxyOnpaWYyGZ6cnHQENo10fn4eer1e8/P5PM7OzjT/+PgYpVIJAFCtVrGwsIBQKAQAuLy8xMvLC0wmE+r1en8jDYfD2hdfXV0xFArRYDD0HJPBYGAqldJqLy4u+hupyWTi9fV10+iKxSKDwSBnZ2c7Njk6OqIQgu/v74xEIjQajf0BAdBsNlOSpJZ/WSgUGAwG6fF4tDy73c7t7W1WKhXWajVubm4OtmkaZbfbKUkS397emsDVapV3d3d8enpiqVTSYltbW4Pv0nZaWlqiJEm8vb3tuGP39vb6hfUGNo7a7XYzkUi0AMPh8OiB35IkqQVYq9WYTCY5Nzc3WuDq6ioVRaEQgoeHh4xGoyyXyxr4/v6eOzs7owPe3NyQJHO5HC0WCwHQ4XA0gVVVZSwWGx1QCMHz8/OWNa/Xy8fHRwoh+PX1xbW1tb8LBMCpqSmm02kKIZjNZtvmDHUfLi4uwu12N8UmJiZgtVphtVoBAMvLy21re96HjSbLMlZWVmCxWBCPxyHLsrY2MzMDn88HANDpdHh9fe3YZ6BjcXBwQFVVu15diqLQ6XSO5hwC4MbGBnd3d5nL5TRIvV6noigMBAJda3Xf1GFsfX0dNpsNAHB6eopsNtuz5o+Aw9jYX20/Ad+wTgwU1JhnAAAAAElFTkSuQmCC\"/>\n   </g>\n   <g id=\"matplotlib.axis_11\"/>\n   <g id=\"matplotlib.axis_12\"/>\n   <g id=\"patch_28\">\n    <path d=\"M 296.273322 255.718125 \nL 296.273322 154.168125 \n\" style=\"fill:none;stroke:#000000;stroke-linecap:square;stroke-linejoin:miter;stroke-width:0.8;\"/>\n   </g>\n   <g id=\"patch_29\">\n    <path d=\"M 397.823322 255.718125 \nL 397.823322 154.168125 \n\" style=\"fill:none;stroke:#000000;stroke-linecap:square;stroke-linejoin:miter;stroke-width:0.8;\"/>\n   </g>\n   <g id=\"patch_30\">\n    <path d=\"M 296.273322 255.718125 \nL 397.823322 255.718125 \n\" style=\"fill:none;stroke:#000000;stroke-linecap:square;stroke-linejoin:miter;stroke-width:0.8;\"/>\n   </g>\n   <g id=\"patch_31\">\n    <path d=\"M 296.273322 154.168125 \nL 397.823322 154.168125 \n\" style=\"fill:none;stroke:#000000;stroke-linecap:square;stroke-linejoin:miter;stroke-width:0.8;\"/>\n   </g>\n   <g id=\"text_6\">\n    <!-- Ground Truth: 8 -->\n    <g transform=\"translate(299.121447 148.168125)scale(0.12 -0.12)\">\n     <use xlink:href=\"#DejaVuSans-71\"/>\n     <use x=\"77.490234\" xlink:href=\"#DejaVuSans-114\"/>\n     <use x=\"118.572266\" xlink:href=\"#DejaVuSans-111\"/>\n     <use x=\"179.753906\" xlink:href=\"#DejaVuSans-117\"/>\n     <use x=\"243.132812\" xlink:href=\"#DejaVuSans-110\"/>\n     <use x=\"306.511719\" xlink:href=\"#DejaVuSans-100\"/>\n     <use x=\"369.988281\" xlink:href=\"#DejaVuSans-32\"/>\n     <use x=\"401.775391\" xlink:href=\"#DejaVuSans-84\"/>\n     <use x=\"462.640625\" xlink:href=\"#DejaVuSans-114\"/>\n     <use x=\"503.753906\" xlink:href=\"#DejaVuSans-117\"/>\n     <use x=\"567.132812\" xlink:href=\"#DejaVuSans-116\"/>\n     <use x=\"606.341797\" xlink:href=\"#DejaVuSans-104\"/>\n     <use x=\"669.720703\" xlink:href=\"#DejaVuSans-58\"/>\n     <use x=\"703.412109\" xlink:href=\"#DejaVuSans-32\"/>\n     <use x=\"735.199219\" xlink:href=\"#DejaVuSans-56\"/>\n    </g>\n   </g>\n  </g>\n </g>\n <defs>\n  <clipPath id=\"pac3281e1b2\">\n   <rect height=\"101.55\" width=\"101.55\" x=\"10.7\" y=\"22.318125\"/>\n  </clipPath>\n  <clipPath id=\"p89cd00cff7\">\n   <rect height=\"101.55\" width=\"101.55\" x=\"153.486661\" y=\"22.318125\"/>\n  </clipPath>\n  <clipPath id=\"pe4fb08316a\">\n   <rect height=\"101.55\" width=\"101.55\" x=\"296.273322\" y=\"22.318125\"/>\n  </clipPath>\n  <clipPath id=\"p02f3d35def\">\n   <rect height=\"101.55\" width=\"101.55\" x=\"10.7\" y=\"154.168125\"/>\n  </clipPath>\n  <clipPath id=\"pd8a06add89\">\n   <rect height=\"101.55\" width=\"101.55\" x=\"153.486661\" y=\"154.168125\"/>\n  </clipPath>\n  <clipPath id=\"pdf915dc99b\">\n   <rect height=\"101.55\" width=\"101.55\" x=\"296.273322\" y=\"154.168125\"/>\n  </clipPath>\n </defs>\n</svg>\n",
      "image/png": "[encoded data removed]"
     },
     "metadata": {}
    }
   ],
   "source": [
    "## Print example\n",
    "\n",
    "for i in range(6):\n",
    "  plt.subplot(2,3,i+1)\n",
    "  plt.tight_layout()\n",
    "  plt.imshow(example_data[i][0], cmap='gray', interpolation='none')\n",
    "  plt.title(\"Ground Truth: {}\".format(example_targets[i]))\n",
    "  plt.xticks([])\n",
    "  plt.yticks([])\n",
    "plt.show()"
   ]
  },
  {
   "cell_type": "markdown",
   "metadata": {
    "colab_type": "text",
    "id": "wLypGXB6xHPb"
   },
   "source": [
    "## Build Network"
   ]
  },
  {
   "cell_type": "markdown",
   "metadata": {
    "colab_type": "text",
    "id": "UJ_q5BflxHPc"
   },
   "source": [
    "![title](https://miro.medium.com/max/1600/1*M_YipQF_oC6owsU1VVrfhg.jpeg)\n",
    "resource : https://medium.com/@jonathan_hui/gan-whats-generative-adversarial-networks-and-its-application-f39ed278ef09"
   ]
  },
  {
   "cell_type": "code",
   "execution_count": 4,
   "metadata": {
    "colab": {},
    "colab_type": "code",
    "id": "NddMdZ_mxHPd"
   },
   "outputs": [],
   "source": [
    "class Discriminator(nn.Module):\n",
    "    def __init__(self, d_input_dim):\n",
    "        super(Discriminator, self).__init__()\n",
    "\n",
    "        self.model = nn.Sequential(\n",
    "            nn.Linear(d_input_dim, 512),\n",
    "            nn.LeakyReLU(0.2, inplace=True),\n",
    "            nn.Linear(512, 256),\n",
    "            nn.LeakyReLU(0.2, inplace=True),\n",
    "            nn.Linear(256, 1),\n",
    "            nn.Sigmoid(),\n",
    "        )\n",
    "\n",
    "    def forward(self, image):\n",
    "        img_flat = image.view(image.size(0), -1)\n",
    "        validity = self.model(img_flat)\n",
    "        return validity\n",
    "    \n",
    "class Generator(nn.Module):\n",
    "    def __init__(self, g_input_dim, g_output_dim):\n",
    "        super(Generator, self).__init__()\n",
    "\n",
    "        def block(in_feat, out_feat, normalize=True):\n",
    "            layers = [nn.Linear(in_feat, out_feat)]\n",
    "            if normalize:\n",
    "                layers.append(nn.BatchNorm1d(out_feat, 0.8))\n",
    "            layers.append(nn.LeakyReLU(0.2, inplace=True))\n",
    "            return layers\n",
    "\n",
    "        self.model = nn.Sequential(\n",
    "            *block(g_input_dim, 128, normalize=False),\n",
    "            *block(128, 256),\n",
    "            *block(256, 512),\n",
    "            *block(512, 1024),\n",
    "            nn.Linear(1024, g_output_dim), \n",
    "            nn.Tanh())\n",
    "\n",
    "    def forward(self, z):\n",
    "        image = self.model(z)\n",
    "        image = image.view(image.size(0), -1)\n",
    "        return image"
   ]
  },
  {
   "cell_type": "code",
   "execution_count": 5,
   "metadata": {
    "colab": {
     "base_uri": "https://localhost:8080/",
     "height": 72
    },
    "colab_type": "code",
    "executionInfo": {
     "elapsed": 4316,
     "status": "ok",
     "timestamp": 1572647287772,
     "user": {
      "displayName": "Muchlisin Adi Saputra 1306365266",
      "photoUrl": "",
      "userId": "17835414831372489696"
     },
     "user_tz": -420
    },
    "id": "jNo6QGSAxHPg",
    "outputId": "3e926661-bc38-47fb-e5f7-9dbfa41fc825"
   },
   "outputs": [],
   "source": [
    "# build network\n",
    "z_dim = 100\n",
    "mnist_dim = train_dataset.train_data.size(1) * train_dataset.train_data.size(2)\n",
    "\n",
    "G = Generator(g_input_dim = z_dim, g_output_dim = mnist_dim).to(device)\n",
    "D = Discriminator(mnist_dim).to(device)"
   ]
  },
  {
   "cell_type": "code",
   "execution_count": 6,
   "metadata": {
    "colab": {
     "base_uri": "https://localhost:8080/",
     "height": 469
    },
    "colab_type": "code",
    "executionInfo": {
     "elapsed": 4304,
     "status": "ok",
     "timestamp": 1572647287774,
     "user": {
      "displayName": "Muchlisin Adi Saputra 1306365266",
      "photoUrl": "",
      "userId": "17835414831372489696"
     },
     "user_tz": -420
    },
    "id": "zyDlKGOqxHPj",
    "outputId": "8dd5b5c2-365a-4714-8f2e-a778ffdfc0a3"
   },
   "outputs": [
    {
     "output_type": "stream",
     "name": "stdout",
     "text": [
      "Generator(\n  (model): Sequential(\n    (0): Linear(in_features=100, out_features=128, bias=True)\n    (1): LeakyReLU(negative_slope=0.2, inplace=True)\n    (2): Linear(in_features=128, out_features=256, bias=True)\n    (3): BatchNorm1d(256, eps=0.8, momentum=0.1, affine=True, track_running_stats=True)\n    (4): LeakyReLU(negative_slope=0.2, inplace=True)\n    (5): Linear(in_features=256, out_features=512, bias=True)\n    (6): BatchNorm1d(512, eps=0.8, momentum=0.1, affine=True, track_running_stats=True)\n    (7): LeakyReLU(negative_slope=0.2, inplace=True)\n    (8): Linear(in_features=512, out_features=1024, bias=True)\n    (9): BatchNorm1d(1024, eps=0.8, momentum=0.1, affine=True, track_running_stats=True)\n    (10): LeakyReLU(negative_slope=0.2, inplace=True)\n    (11): Linear(in_features=1024, out_features=784, bias=True)\n    (12): Tanh()\n  )\n) Discriminator(\n  (model): Sequential(\n    (0): Linear(in_features=784, out_features=512, bias=True)\n    (1): LeakyReLU(negative_slope=0.2, inplace=True)\n    (2): Linear(in_features=512, out_features=256, bias=True)\n    (3): LeakyReLU(negative_slope=0.2, inplace=True)\n    (4): Linear(in_features=256, out_features=1, bias=True)\n    (5): Sigmoid()\n  )\n)\n"
     ]
    }
   ],
   "source": [
    "print(G, D)"
   ]
  },
  {
   "cell_type": "markdown",
   "metadata": {
    "colab_type": "text",
    "id": "pw6SuIw-xHPm"
   },
   "source": [
    "# Train Process"
   ]
  },
  {
   "cell_type": "code",
   "execution_count": 7,
   "metadata": {
    "colab": {},
    "colab_type": "code",
    "id": "v0jzHUZ7xHPn"
   },
   "outputs": [],
   "source": [
    "# loss\n",
    "criterion = nn.BCELoss() \n",
    "\n",
    "# optimizer\n",
    "lr = 0.0002\n",
    "b1 = 0.5\n",
    "b2 = 0.999\n",
    "G_optimizer = torch.optim.Adam(G.parameters(), lr=lr, betas=(b1, b2))\n",
    "D_optimizer = torch.optim.Adam(D.parameters(), lr=lr, betas=(b1, b2))"
   ]
  },
  {
   "cell_type": "markdown",
   "metadata": {
    "colab_type": "text",
    "id": "Dq0ckidKxHPs"
   },
   "source": [
    "### Discriminator Update"
   ]
  },
  {
   "cell_type": "markdown",
   "metadata": {
    "colab_type": "text",
    "id": "ZRXPjUQ8xHPu"
   },
   "source": [
    "![title](https://miro.medium.com/max/1720/1*4xAHMaUGXeOQnNJhzjq-4Q.jpeg)"
   ]
  },
  {
   "cell_type": "markdown",
   "metadata": {
    "colab_type": "text",
    "id": "1k9X4YhGxHPz"
   },
   "source": [
    "### Generator Update"
   ]
  },
  {
   "cell_type": "markdown",
   "metadata": {
    "colab_type": "text",
    "id": "uLDNX_vKxHP0"
   },
   "source": [
    "### Before : <br>\n",
    "![title](https://miro.medium.com/max/1224/1*n235XEigXKL3ktL08d-CZA.jpeg) <br>\n",
    "### Because Generator diminished gradient: <br>\n",
    "In practice, equation 1 may not provide sufficient gradient for G to learn well.  Early in learning, when G is poor,D can reject samples with high confidence because they are clearly different fromthe training data.  In this case, log(1−D(G(z))) saturates.  Rather than training G to minimize log(1−D(G(z))) we can train G to maximize logD(G(z)). This objective function results in thesame fixed point of the dynamics of G and D but provides much stronger gradients early in learning. (GAN Paper)<br>\n",
    "\n",
    "![title](https://miro.medium.com/max/1517/1*6So6q3dWurG8qrmwk1y3jw.jpeg) <br>"
   ]
  },
  {
   "cell_type": "markdown",
   "metadata": {
    "colab_type": "text",
    "id": "CUXei7RixHPr"
   },
   "source": [
    "![BCEloss](https://github.com/DSC-UI-SRIN/Introduction-to-GAN/raw/master/1%20-%20Fundamental%20of%20GANs/images/BCELoss.png)"
   ]
  },
  {
   "cell_type": "code",
   "execution_count": 8,
   "metadata": {
    "colab": {
     "base_uri": "https://localhost:8080/",
     "height": 1000
    },
    "colab_type": "code",
    "executionInfo": {
     "elapsed": 64298,
     "status": "error",
     "timestamp": 1572646592735,
     "user": {
      "displayName": "Muchlisin Adi Saputra 1306365266",
      "photoUrl": "",
      "userId": "17835414831372489696"
     },
     "user_tz": -420
    },
    "id": "NX2eNdar64Xs",
    "outputId": "2f8fbc72-9810-47e4-d071-0b66d98a4729",
    "tags": []
   },
   "outputs": [
    {
     "output_type": "stream",
     "name": "stdout",
     "text": [
      "[Epoch 0/200] [D loss: 0.409358] [G loss: 0.979487]\n",
      "[Epoch 1/200] [D loss: 0.531015] [G loss: 2.636233]\n",
      "[Epoch 2/200] [D loss: 0.327916] [G loss: 0.994596]\n",
      "[Epoch 3/200] [D loss: 0.435401] [G loss: 0.768487]\n",
      "[Epoch 4/200] [D loss: 0.191651] [G loss: 2.281708]\n",
      "[Epoch 5/200] [D loss: 0.372883] [G loss: 1.098316]\n",
      "[Epoch 6/200] [D loss: 0.164275] [G loss: 2.104535]\n",
      "[Epoch 7/200] [D loss: 0.149026] [G loss: 3.042058]\n",
      "[Epoch 8/200] [D loss: 0.165205] [G loss: 2.171220]\n",
      "[Epoch 9/200] [D loss: 0.164545] [G loss: 3.400653]\n",
      "[Epoch 10/200] [D loss: 0.198701] [G loss: 1.615216]\n",
      "[Epoch 11/200] [D loss: 0.220846] [G loss: 3.128928]\n",
      "[Epoch 12/200] [D loss: 0.316144] [G loss: 1.060045]\n",
      "[Epoch 13/200] [D loss: 0.307597] [G loss: 1.608868]\n",
      "[Epoch 14/200] [D loss: 0.177484] [G loss: 2.017976]\n",
      "[Epoch 15/200] [D loss: 0.779074] [G loss: 0.515779]\n",
      "[Epoch 16/200] [D loss: 0.182962] [G loss: 3.636184]\n",
      "[Epoch 17/200] [D loss: 0.231315] [G loss: 3.636222]\n",
      "[Epoch 18/200] [D loss: 0.107272] [G loss: 3.263804]\n",
      "[Epoch 19/200] [D loss: 0.228291] [G loss: 1.999742]\n",
      "[Epoch 20/200] [D loss: 0.198210] [G loss: 4.798783]\n",
      "[Epoch 21/200] [D loss: 0.223742] [G loss: 4.534131]\n",
      "[Epoch 22/200] [D loss: 0.214418] [G loss: 3.535322]\n",
      "[Epoch 23/200] [D loss: 0.214573] [G loss: 1.774754]\n",
      "[Epoch 24/200] [D loss: 0.591888] [G loss: 6.295918]\n",
      "[Epoch 25/200] [D loss: 0.240090] [G loss: 1.455883]\n",
      "[Epoch 26/200] [D loss: 0.160866] [G loss: 1.879029]\n",
      "[Epoch 27/200] [D loss: 0.226694] [G loss: 1.861139]\n",
      "[Epoch 28/200] [D loss: 0.242941] [G loss: 1.866689]\n",
      "[Epoch 29/200] [D loss: 0.104064] [G loss: 2.567948]\n",
      "[Epoch 30/200] [D loss: 0.333725] [G loss: 2.815553]\n",
      "[Epoch 31/200] [D loss: 0.082346] [G loss: 3.945901]\n",
      "[Epoch 32/200] [D loss: 0.316582] [G loss: 3.677504]\n",
      "[Epoch 33/200] [D loss: 0.095441] [G loss: 2.751964]\n",
      "[Epoch 34/200] [D loss: 0.159547] [G loss: 3.300151]\n",
      "[Epoch 35/200] [D loss: 0.163637] [G loss: 3.942416]\n",
      "[Epoch 36/200] [D loss: 0.198661] [G loss: 3.791441]\n",
      "[Epoch 37/200] [D loss: 0.087702] [G loss: 2.761435]\n",
      "[Epoch 38/200] [D loss: 0.228559] [G loss: 1.648220]\n",
      "[Epoch 39/200] [D loss: 0.153534] [G loss: 2.131907]\n",
      "[Epoch 40/200] [D loss: 0.101985] [G loss: 2.999114]\n",
      "[Epoch 41/200] [D loss: 0.087203] [G loss: 2.773445]\n",
      "[Epoch 42/200] [D loss: 0.208012] [G loss: 1.713488]\n",
      "[Epoch 43/200] [D loss: 0.388856] [G loss: 5.605894]\n",
      "[Epoch 44/200] [D loss: 0.180809] [G loss: 1.670316]\n",
      "[Epoch 45/200] [D loss: 0.297110] [G loss: 2.198882]\n",
      "[Epoch 46/200] [D loss: 0.207690] [G loss: 2.829699]\n",
      "[Epoch 47/200] [D loss: 0.219844] [G loss: 1.797649]\n",
      "[Epoch 48/200] [D loss: 0.206536] [G loss: 2.912797]\n",
      "[Epoch 49/200] [D loss: 0.099597] [G loss: 3.049305]\n",
      "[Epoch 50/200] [D loss: 0.169738] [G loss: 3.775439]\n",
      "[Epoch 51/200] [D loss: 0.181093] [G loss: 6.903407]\n",
      "[Epoch 52/200] [D loss: 0.263902] [G loss: 2.389282]\n",
      "[Epoch 53/200] [D loss: 0.185581] [G loss: 2.156900]\n",
      "[Epoch 54/200] [D loss: 0.341729] [G loss: 1.231271]\n",
      "[Epoch 55/200] [D loss: 0.141772] [G loss: 2.116343]\n",
      "[Epoch 56/200] [D loss: 0.198869] [G loss: 2.676004]\n",
      "[Epoch 57/200] [D loss: 0.123144] [G loss: 1.960220]\n",
      "[Epoch 58/200] [D loss: 0.137205] [G loss: 3.362880]\n",
      "[Epoch 59/200] [D loss: 0.163732] [G loss: 2.221447]\n",
      "[Epoch 60/200] [D loss: 0.094924] [G loss: 3.509563]\n",
      "[Epoch 61/200] [D loss: 0.210527] [G loss: 2.295527]\n",
      "[Epoch 62/200] [D loss: 0.088127] [G loss: 2.845163]\n",
      "[Epoch 63/200] [D loss: 0.628479] [G loss: 0.671444]\n",
      "[Epoch 64/200] [D loss: 0.204432] [G loss: 2.206589]\n",
      "[Epoch 65/200] [D loss: 0.152041] [G loss: 2.912388]\n",
      "[Epoch 66/200] [D loss: 0.188614] [G loss: 2.182527]\n",
      "[Epoch 67/200] [D loss: 0.224094] [G loss: 2.358770]\n",
      "[Epoch 68/200] [D loss: 0.232934] [G loss: 2.067719]\n",
      "[Epoch 69/200] [D loss: 0.119390] [G loss: 1.984619]\n",
      "[Epoch 70/200] [D loss: 0.253340] [G loss: 4.348499]\n",
      "[Epoch 71/200] [D loss: 0.141509] [G loss: 1.818381]\n",
      "[Epoch 72/200] [D loss: 0.048582] [G loss: 4.214629]\n",
      "[Epoch 73/200] [D loss: 0.057241] [G loss: 3.526023]\n",
      "[Epoch 74/200] [D loss: 0.102674] [G loss: 3.762553]\n",
      "[Epoch 75/200] [D loss: 0.139870] [G loss: 2.796242]\n",
      "[Epoch 76/200] [D loss: 0.175016] [G loss: 2.360976]\n",
      "[Epoch 77/200] [D loss: 0.099978] [G loss: 3.591169]\n",
      "[Epoch 78/200] [D loss: 0.091810] [G loss: 5.129591]\n",
      "[Epoch 79/200] [D loss: 0.122407] [G loss: 3.359590]\n",
      "[Epoch 80/200] [D loss: 0.065555] [G loss: 3.044121]\n",
      "[Epoch 81/200] [D loss: 0.124819] [G loss: 2.320161]\n",
      "[Epoch 82/200] [D loss: 0.134208] [G loss: 6.123927]\n",
      "[Epoch 83/200] [D loss: 0.151460] [G loss: 6.010302]\n",
      "[Epoch 84/200] [D loss: 0.109098] [G loss: 2.721696]\n",
      "[Epoch 85/200] [D loss: 0.149979] [G loss: 3.236776]\n",
      "[Epoch 86/200] [D loss: 0.131809] [G loss: 3.717660]\n",
      "[Epoch 87/200] [D loss: 0.127073] [G loss: 3.940755]\n",
      "[Epoch 88/200] [D loss: 0.100331] [G loss: 3.239596]\n",
      "[Epoch 89/200] [D loss: 0.168899] [G loss: 3.175700]\n",
      "[Epoch 90/200] [D loss: 0.250058] [G loss: 2.135736]\n",
      "[Epoch 91/200] [D loss: 0.113925] [G loss: 2.669557]\n",
      "[Epoch 92/200] [D loss: 0.115726] [G loss: 2.537187]\n",
      "[Epoch 93/200] [D loss: 0.125679] [G loss: 3.022063]\n",
      "[Epoch 94/200] [D loss: 0.132287] [G loss: 2.550302]\n",
      "[Epoch 95/200] [D loss: 0.099919] [G loss: 3.318158]\n",
      "[Epoch 96/200] [D loss: 0.103953] [G loss: 3.314835]\n",
      "[Epoch 97/200] [D loss: 0.097383] [G loss: 2.582491]\n",
      "[Epoch 98/200] [D loss: 0.105897] [G loss: 2.628105]\n",
      "[Epoch 99/200] [D loss: 0.136144] [G loss: 2.284934]\n",
      "[Epoch 100/200] [D loss: 0.115526] [G loss: 3.025049]\n",
      "[Epoch 101/200] [D loss: 0.106302] [G loss: 4.486747]\n",
      "[Epoch 102/200] [D loss: 0.136721] [G loss: 4.653417]\n",
      "[Epoch 103/200] [D loss: 0.123402] [G loss: 3.631986]\n",
      "[Epoch 104/200] [D loss: 0.124506] [G loss: 2.833345]\n",
      "[Epoch 105/200] [D loss: 0.070611] [G loss: 2.925678]\n",
      "[Epoch 106/200] [D loss: 0.057552] [G loss: 4.167343]\n",
      "[Epoch 107/200] [D loss: 0.065121] [G loss: 3.145854]\n",
      "[Epoch 108/200] [D loss: 0.107258] [G loss: 3.247554]\n",
      "[Epoch 109/200] [D loss: 0.165419] [G loss: 3.949470]\n",
      "[Epoch 110/200] [D loss: 0.126243] [G loss: 3.429530]\n",
      "[Epoch 111/200] [D loss: 0.088498] [G loss: 2.449770]\n",
      "[Epoch 112/200] [D loss: 0.114601] [G loss: 3.390336]\n",
      "[Epoch 113/200] [D loss: 0.087817] [G loss: 3.529983]\n",
      "[Epoch 114/200] [D loss: 0.163688] [G loss: 1.740547]\n",
      "[Epoch 115/200] [D loss: 0.112261] [G loss: 4.587312]\n",
      "[Epoch 116/200] [D loss: 0.114651] [G loss: 3.187907]\n",
      "[Epoch 117/200] [D loss: 0.093797] [G loss: 2.575693]\n",
      "[Epoch 118/200] [D loss: 0.268530] [G loss: 3.129734]\n",
      "[Epoch 119/200] [D loss: 0.081213] [G loss: 4.723227]\n",
      "[Epoch 120/200] [D loss: 0.083680] [G loss: 2.613035]\n",
      "[Epoch 121/200] [D loss: 0.125067] [G loss: 2.323878]\n",
      "[Epoch 122/200] [D loss: 0.051891] [G loss: 3.403339]\n",
      "[Epoch 123/200] [D loss: 0.060454] [G loss: 4.701758]\n",
      "[Epoch 124/200] [D loss: 0.237066] [G loss: 5.029842]\n",
      "[Epoch 125/200] [D loss: 0.105494] [G loss: 4.566869]\n",
      "[Epoch 126/200] [D loss: 0.061590] [G loss: 3.701624]\n",
      "[Epoch 127/200] [D loss: 0.138013] [G loss: 2.671988]\n",
      "[Epoch 128/200] [D loss: 0.116683] [G loss: 4.858526]\n",
      "[Epoch 129/200] [D loss: 0.054676] [G loss: 3.840265]\n",
      "[Epoch 130/200] [D loss: 0.054561] [G loss: 3.694691]\n",
      "[Epoch 131/200] [D loss: 0.118868] [G loss: 3.664958]\n",
      "[Epoch 132/200] [D loss: 0.253184] [G loss: 2.971133]\n",
      "[Epoch 133/200] [D loss: 0.071145] [G loss: 3.507859]\n",
      "[Epoch 134/200] [D loss: 0.162878] [G loss: 3.072093]\n",
      "[Epoch 135/200] [D loss: 0.085399] [G loss: 3.135766]\n",
      "[Epoch 136/200] [D loss: 0.326711] [G loss: 5.152489]\n",
      "[Epoch 137/200] [D loss: 0.159040] [G loss: 1.787867]\n",
      "[Epoch 138/200] [D loss: 0.154235] [G loss: 4.514359]\n",
      "[Epoch 139/200] [D loss: 0.125856] [G loss: 3.126745]\n",
      "[Epoch 140/200] [D loss: 0.108435] [G loss: 2.746899]\n",
      "[Epoch 141/200] [D loss: 0.073433] [G loss: 4.976115]\n",
      "[Epoch 142/200] [D loss: 0.168990] [G loss: 3.096332]\n",
      "[Epoch 143/200] [D loss: 0.111510] [G loss: 3.375378]\n",
      "[Epoch 144/200] [D loss: 0.152875] [G loss: 3.851345]\n",
      "[Epoch 145/200] [D loss: 0.072179] [G loss: 3.596684]\n",
      "[Epoch 146/200] [D loss: 0.094450] [G loss: 3.910134]\n",
      "[Epoch 147/200] [D loss: 0.084902] [G loss: 4.961084]\n",
      "[Epoch 148/200] [D loss: 0.157261] [G loss: 3.045221]\n",
      "[Epoch 149/200] [D loss: 0.076753] [G loss: 3.253046]\n",
      "[Epoch 150/200] [D loss: 0.121205] [G loss: 3.459216]\n",
      "[Epoch 151/200] [D loss: 0.125856] [G loss: 3.332195]\n",
      "[Epoch 152/200] [D loss: 0.108585] [G loss: 6.111477]\n",
      "[Epoch 153/200] [D loss: 0.261399] [G loss: 2.581622]\n",
      "[Epoch 154/200] [D loss: 0.166132] [G loss: 2.684499]\n",
      "[Epoch 155/200] [D loss: 0.104757] [G loss: 4.202713]\n",
      "[Epoch 156/200] [D loss: 0.067461] [G loss: 2.919797]\n",
      "[Epoch 157/200] [D loss: 0.333929] [G loss: 9.348351]\n",
      "[Epoch 158/200] [D loss: 0.149170] [G loss: 3.878995]\n",
      "[Epoch 159/200] [D loss: 0.106306] [G loss: 4.950897]\n",
      "[Epoch 160/200] [D loss: 0.205198] [G loss: 3.630439]\n",
      "[Epoch 161/200] [D loss: 0.094555] [G loss: 3.518835]\n",
      "[Epoch 162/200] [D loss: 0.057488] [G loss: 3.926623]\n",
      "[Epoch 163/200] [D loss: 0.117795] [G loss: 3.811855]\n",
      "[Epoch 164/200] [D loss: 0.124242] [G loss: 3.162066]\n",
      "[Epoch 165/200] [D loss: 0.143196] [G loss: 2.583303]\n",
      "[Epoch 166/200] [D loss: 0.257075] [G loss: 3.400006]\n",
      "[Epoch 167/200] [D loss: 0.068291] [G loss: 4.177482]\n",
      "[Epoch 168/200] [D loss: 0.139884] [G loss: 3.164789]\n",
      "[Epoch 169/200] [D loss: 0.116872] [G loss: 5.183423]\n",
      "[Epoch 170/200] [D loss: 0.058560] [G loss: 3.329575]\n",
      "[Epoch 171/200] [D loss: 0.091729] [G loss: 5.692312]\n",
      "[Epoch 172/200] [D loss: 0.112322] [G loss: 4.184157]\n",
      "[Epoch 173/200] [D loss: 0.122796] [G loss: 2.922789]\n",
      "[Epoch 174/200] [D loss: 0.071017] [G loss: 3.638947]\n",
      "[Epoch 175/200] [D loss: 0.179797] [G loss: 4.415097]\n",
      "[Epoch 176/200] [D loss: 0.064124] [G loss: 4.255632]\n",
      "[Epoch 177/200] [D loss: 0.106831] [G loss: 3.488227]\n",
      "[Epoch 178/200] [D loss: 0.124133] [G loss: 2.668475]\n",
      "[Epoch 179/200] [D loss: 0.150136] [G loss: 3.815946]\n",
      "[Epoch 180/200] [D loss: 0.057626] [G loss: 3.078042]\n",
      "[Epoch 181/200] [D loss: 0.288743] [G loss: 7.323792]\n",
      "[Epoch 182/200] [D loss: 0.196145] [G loss: 4.688664]\n",
      "[Epoch 183/200] [D loss: 0.091474] [G loss: 3.444574]\n",
      "[Epoch 184/200] [D loss: 0.155119] [G loss: 2.664546]\n",
      "[Epoch 185/200] [D loss: 0.223946] [G loss: 3.899221]\n",
      "[Epoch 186/200] [D loss: 0.119489] [G loss: 2.073008]\n",
      "[Epoch 187/200] [D loss: 0.138204] [G loss: 2.945242]\n",
      "[Epoch 188/200] [D loss: 0.150579] [G loss: 2.662991]\n",
      "[Epoch 189/200] [D loss: 0.211798] [G loss: 3.182225]\n",
      "[Epoch 190/200] [D loss: 0.320199] [G loss: 5.974912]\n",
      "[Epoch 191/200] [D loss: 0.185317] [G loss: 5.787504]\n",
      "[Epoch 192/200] [D loss: 0.205639] [G loss: 3.240322]\n",
      "[Epoch 193/200] [D loss: 0.104322] [G loss: 3.718546]\n",
      "[Epoch 194/200] [D loss: 0.133007] [G loss: 3.841853]\n",
      "[Epoch 195/200] [D loss: 0.159623] [G loss: 2.730756]\n",
      "[Epoch 196/200] [D loss: 0.180687] [G loss: 2.732551]\n",
      "[Epoch 197/200] [D loss: 0.220615] [G loss: 3.474014]\n",
      "[Epoch 198/200] [D loss: 0.182204] [G loss: 1.886245]\n",
      "[Epoch 199/200] [D loss: 0.139008] [G loss: 3.948274]\n"
     ]
    }
   ],
   "source": [
    "Tensor = torch.cuda.FloatTensor if torch.cuda.is_available() else torch.FloatTensor\n",
    "epochs = 200\n",
    "\n",
    "d_losses = []\n",
    "g_losses = []\n",
    "\n",
    "for epoch in range(epochs):\n",
    "    for i, (imgs, _) in enumerate(train_loader):\n",
    "\n",
    "        # Adversarial ground truths\n",
    "        valid = Variable(Tensor(imgs.size(0), 1).fill_(1.0), requires_grad=False)\n",
    "        fake = Variable(Tensor(imgs.size(0), 1).fill_(0.0), requires_grad=False)\n",
    "\n",
    "        # Configure input\n",
    "        real_imgs = Variable(imgs.type(Tensor))\n",
    "\n",
    "        # -----------------\n",
    "        #  Train Generator\n",
    "        # -----------------\n",
    "\n",
    "        G_optimizer.zero_grad()\n",
    "\n",
    "        # Sample noise as generator input\n",
    "        z = Variable(Tensor(np.random.normal(0, 1, (imgs.shape[0], z_dim))))\n",
    "\n",
    "        # Generate a batch of images\n",
    "        gen_imgs = G(z)\n",
    "\n",
    "        # Loss measures generator's ability to fool the discriminator\n",
    "        # g_loss = criterion(D(gen_imgs), fake) # Normal MinMax\n",
    "        g_loss = criterion(D(gen_imgs), valid) # Non Saturated\n",
    "\n",
    "        g_loss.backward()\n",
    "        G_optimizer.step()\n",
    "\n",
    "        # ---------------------\n",
    "        #  Train Discriminator\n",
    "        # ---------------------\n",
    "\n",
    "        D_optimizer.zero_grad()\n",
    "\n",
    "        # Measure discriminator's ability to classify real from generated samples\n",
    "        real_loss = criterion(D(real_imgs), valid)\n",
    "        fake_loss = criterion(D(gen_imgs.detach()), fake)\n",
    "        d_loss = (real_loss + fake_loss) / 2\n",
    "\n",
    "        d_loss.backward()\n",
    "        D_optimizer.step()\n",
    "        \n",
    "    print(\n",
    "        \"[Epoch %d/%d] [D loss: %f] [G loss: %f]\"\n",
    "        % (epoch, epochs, d_loss.item(), g_loss.item()))\n",
    "\n",
    "    d_losses.append(d_loss.item())\n",
    "    g_losses.append(g_loss.item())\n",
    "\n",
    "    if epoch % 5 == 0:\n",
    "        save_image(\n",
    "            gen_imgs.view(gen_imgs.size(0), 1, 28, 28),\n",
    "            ROOT + \"sample_%d.png\" % epoch, nrow=5, normalize=True)\n",
    "\n",
    "torch.save(G, ROOT + 'G.pt')\n",
    "torch.save(D, ROOT + 'D.pt')"
   ]
  },
  {
   "cell_type": "code",
   "execution_count": 9,
   "metadata": {},
   "outputs": [
    {
     "output_type": "display_data",
     "data": {
      "text/plain": "<Figure size 432x288 with 1 Axes>",
      "image/svg+xml": "<?xml version=\"1.0\" encoding=\"utf-8\" standalone=\"no\"?>\n<!DOCTYPE svg PUBLIC \"-//W3C//DTD SVG 1.1//EN\"\n  \"http://www.w3.org/Graphics/SVG/1.1/DTD/svg11.dtd\">\n<!-- Created with matplotlib (https://matplotlib.org/) -->\n<svg height=\"248.518125pt\" version=\"1.1\" viewBox=\"0 0 362.5625 248.518125\" width=\"362.5625pt\" xmlns=\"http://www.w3.org/2000/svg\" xmlns:xlink=\"http://www.w3.org/1999/xlink\">\n <defs>\n  <style type=\"text/css\">\n*{stroke-linecap:butt;stroke-linejoin:round;}\n  </style>\n </defs>\n <g id=\"figure_1\">\n  <g id=\"patch_1\">\n   <path d=\"M 0 248.518125 \nL 362.5625 248.518125 \nL 362.5625 0 \nL 0 0 \nz\n\" style=\"fill:none;\"/>\n  </g>\n  <g id=\"axes_1\">\n   <g id=\"patch_2\">\n    <path d=\"M 20.5625 224.64 \nL 355.3625 224.64 \nL 355.3625 7.2 \nL 20.5625 7.2 \nz\n\" style=\"fill:#ffffff;\"/>\n   </g>\n   <g id=\"matplotlib.axis_1\">\n    <g id=\"xtick_1\">\n     <g id=\"line2d_1\">\n      <defs>\n       <path d=\"M 0 0 \nL 0 3.5 \n\" id=\"me2b0ec0b5a\" style=\"stroke:#000000;stroke-width:0.8;\"/>\n      </defs>\n      <g>\n       <use style=\"stroke:#000000;stroke-width:0.8;\" x=\"35.780682\" xlink:href=\"#me2b0ec0b5a\" y=\"224.64\"/>\n      </g>\n     </g>\n     <g id=\"text_1\">\n      <!-- 0 -->\n      <defs>\n       <path d=\"M 31.78125 66.40625 \nQ 24.171875 66.40625 20.328125 58.90625 \nQ 16.5 51.421875 16.5 36.375 \nQ 16.5 21.390625 20.328125 13.890625 \nQ 24.171875 6.390625 31.78125 6.390625 \nQ 39.453125 6.390625 43.28125 13.890625 \nQ 47.125 21.390625 47.125 36.375 \nQ 47.125 51.421875 43.28125 58.90625 \nQ 39.453125 66.40625 31.78125 66.40625 \nz\nM 31.78125 74.21875 \nQ 44.046875 74.21875 50.515625 64.515625 \nQ 56.984375 54.828125 56.984375 36.375 \nQ 56.984375 17.96875 50.515625 8.265625 \nQ 44.046875 -1.421875 31.78125 -1.421875 \nQ 19.53125 -1.421875 13.0625 8.265625 \nQ 6.59375 17.96875 6.59375 36.375 \nQ 6.59375 54.828125 13.0625 64.515625 \nQ 19.53125 74.21875 31.78125 74.21875 \nz\n\" id=\"DejaVuSans-48\"/>\n      </defs>\n      <g transform=\"translate(32.599432 239.238437)scale(0.1 -0.1)\">\n       <use xlink:href=\"#DejaVuSans-48\"/>\n      </g>\n     </g>\n    </g>\n    <g id=\"xtick_2\">\n     <g id=\"line2d_2\">\n      <g>\n       <use style=\"stroke:#000000;stroke-width:0.8;\" x=\"74.01732\" xlink:href=\"#me2b0ec0b5a\" y=\"224.64\"/>\n      </g>\n     </g>\n     <g id=\"text_2\">\n      <!-- 25 -->\n      <defs>\n       <path d=\"M 19.1875 8.296875 \nL 53.609375 8.296875 \nL 53.609375 0 \nL 7.328125 0 \nL 7.328125 8.296875 \nQ 12.9375 14.109375 22.625 23.890625 \nQ 32.328125 33.6875 34.8125 36.53125 \nQ 39.546875 41.84375 41.421875 45.53125 \nQ 43.3125 49.21875 43.3125 52.78125 \nQ 43.3125 58.59375 39.234375 62.25 \nQ 35.15625 65.921875 28.609375 65.921875 \nQ 23.96875 65.921875 18.8125 64.3125 \nQ 13.671875 62.703125 7.8125 59.421875 \nL 7.8125 69.390625 \nQ 13.765625 71.78125 18.9375 73 \nQ 24.125 74.21875 28.421875 74.21875 \nQ 39.75 74.21875 46.484375 68.546875 \nQ 53.21875 62.890625 53.21875 53.421875 \nQ 53.21875 48.921875 51.53125 44.890625 \nQ 49.859375 40.875 45.40625 35.40625 \nQ 44.1875 33.984375 37.640625 27.21875 \nQ 31.109375 20.453125 19.1875 8.296875 \nz\n\" id=\"DejaVuSans-50\"/>\n       <path d=\"M 10.796875 72.90625 \nL 49.515625 72.90625 \nL 49.515625 64.59375 \nL 19.828125 64.59375 \nL 19.828125 46.734375 \nQ 21.96875 47.46875 24.109375 47.828125 \nQ 26.265625 48.1875 28.421875 48.1875 \nQ 40.625 48.1875 47.75 41.5 \nQ 54.890625 34.8125 54.890625 23.390625 \nQ 54.890625 11.625 47.5625 5.09375 \nQ 40.234375 -1.421875 26.90625 -1.421875 \nQ 22.3125 -1.421875 17.546875 -0.640625 \nQ 12.796875 0.140625 7.71875 1.703125 \nL 7.71875 11.625 \nQ 12.109375 9.234375 16.796875 8.0625 \nQ 21.484375 6.890625 26.703125 6.890625 \nQ 35.15625 6.890625 40.078125 11.328125 \nQ 45.015625 15.765625 45.015625 23.390625 \nQ 45.015625 31 40.078125 35.4375 \nQ 35.15625 39.890625 26.703125 39.890625 \nQ 22.75 39.890625 18.8125 39.015625 \nQ 14.890625 38.140625 10.796875 36.28125 \nz\n\" id=\"DejaVuSans-53\"/>\n      </defs>\n      <g transform=\"translate(67.65482 239.238437)scale(0.1 -0.1)\">\n       <use xlink:href=\"#DejaVuSans-50\"/>\n       <use x=\"63.623047\" xlink:href=\"#DejaVuSans-53\"/>\n      </g>\n     </g>\n    </g>\n    <g id=\"xtick_3\">\n     <g id=\"line2d_3\">\n      <g>\n       <use style=\"stroke:#000000;stroke-width:0.8;\" x=\"112.253957\" xlink:href=\"#me2b0ec0b5a\" y=\"224.64\"/>\n      </g>\n     </g>\n     <g id=\"text_3\">\n      <!-- 50 -->\n      <g transform=\"translate(105.891457 239.238437)scale(0.1 -0.1)\">\n       <use xlink:href=\"#DejaVuSans-53\"/>\n       <use x=\"63.623047\" xlink:href=\"#DejaVuSans-48\"/>\n      </g>\n     </g>\n    </g>\n    <g id=\"xtick_4\">\n     <g id=\"line2d_4\">\n      <g>\n       <use style=\"stroke:#000000;stroke-width:0.8;\" x=\"150.490595\" xlink:href=\"#me2b0ec0b5a\" y=\"224.64\"/>\n      </g>\n     </g>\n     <g id=\"text_4\">\n      <!-- 75 -->\n      <defs>\n       <path d=\"M 8.203125 72.90625 \nL 55.078125 72.90625 \nL 55.078125 68.703125 \nL 28.609375 0 \nL 18.3125 0 \nL 43.21875 64.59375 \nL 8.203125 64.59375 \nz\n\" id=\"DejaVuSans-55\"/>\n      </defs>\n      <g transform=\"translate(144.128095 239.238437)scale(0.1 -0.1)\">\n       <use xlink:href=\"#DejaVuSans-55\"/>\n       <use x=\"63.623047\" xlink:href=\"#DejaVuSans-53\"/>\n      </g>\n     </g>\n    </g>\n    <g id=\"xtick_5\">\n     <g id=\"line2d_5\">\n      <g>\n       <use style=\"stroke:#000000;stroke-width:0.8;\" x=\"188.727233\" xlink:href=\"#me2b0ec0b5a\" y=\"224.64\"/>\n      </g>\n     </g>\n     <g id=\"text_5\">\n      <!-- 100 -->\n      <defs>\n       <path d=\"M 12.40625 8.296875 \nL 28.515625 8.296875 \nL 28.515625 63.921875 \nL 10.984375 60.40625 \nL 10.984375 69.390625 \nL 28.421875 72.90625 \nL 38.28125 72.90625 \nL 38.28125 8.296875 \nL 54.390625 8.296875 \nL 54.390625 0 \nL 12.40625 0 \nz\n\" id=\"DejaVuSans-49\"/>\n      </defs>\n      <g transform=\"translate(179.183483 239.238437)scale(0.1 -0.1)\">\n       <use xlink:href=\"#DejaVuSans-49\"/>\n       <use x=\"63.623047\" xlink:href=\"#DejaVuSans-48\"/>\n       <use x=\"127.246094\" xlink:href=\"#DejaVuSans-48\"/>\n      </g>\n     </g>\n    </g>\n    <g id=\"xtick_6\">\n     <g id=\"line2d_6\">\n      <g>\n       <use style=\"stroke:#000000;stroke-width:0.8;\" x=\"226.96387\" xlink:href=\"#me2b0ec0b5a\" y=\"224.64\"/>\n      </g>\n     </g>\n     <g id=\"text_6\">\n      <!-- 125 -->\n      <g transform=\"translate(217.42012 239.238437)scale(0.1 -0.1)\">\n       <use xlink:href=\"#DejaVuSans-49\"/>\n       <use x=\"63.623047\" xlink:href=\"#DejaVuSans-50\"/>\n       <use x=\"127.246094\" xlink:href=\"#DejaVuSans-53\"/>\n      </g>\n     </g>\n    </g>\n    <g id=\"xtick_7\">\n     <g id=\"line2d_7\">\n      <g>\n       <use style=\"stroke:#000000;stroke-width:0.8;\" x=\"265.200508\" xlink:href=\"#me2b0ec0b5a\" y=\"224.64\"/>\n      </g>\n     </g>\n     <g id=\"text_7\">\n      <!-- 150 -->\n      <g transform=\"translate(255.656758 239.238437)scale(0.1 -0.1)\">\n       <use xlink:href=\"#DejaVuSans-49\"/>\n       <use x=\"63.623047\" xlink:href=\"#DejaVuSans-53\"/>\n       <use x=\"127.246094\" xlink:href=\"#DejaVuSans-48\"/>\n      </g>\n     </g>\n    </g>\n    <g id=\"xtick_8\">\n     <g id=\"line2d_8\">\n      <g>\n       <use style=\"stroke:#000000;stroke-width:0.8;\" x=\"303.437146\" xlink:href=\"#me2b0ec0b5a\" y=\"224.64\"/>\n      </g>\n     </g>\n     <g id=\"text_8\">\n      <!-- 175 -->\n      <g transform=\"translate(293.893396 239.238437)scale(0.1 -0.1)\">\n       <use xlink:href=\"#DejaVuSans-49\"/>\n       <use x=\"63.623047\" xlink:href=\"#DejaVuSans-55\"/>\n       <use x=\"127.246094\" xlink:href=\"#DejaVuSans-53\"/>\n      </g>\n     </g>\n    </g>\n    <g id=\"xtick_9\">\n     <g id=\"line2d_9\">\n      <g>\n       <use style=\"stroke:#000000;stroke-width:0.8;\" x=\"341.673784\" xlink:href=\"#me2b0ec0b5a\" y=\"224.64\"/>\n      </g>\n     </g>\n     <g id=\"text_9\">\n      <!-- 200 -->\n      <g transform=\"translate(332.130034 239.238437)scale(0.1 -0.1)\">\n       <use xlink:href=\"#DejaVuSans-50\"/>\n       <use x=\"63.623047\" xlink:href=\"#DejaVuSans-48\"/>\n       <use x=\"127.246094\" xlink:href=\"#DejaVuSans-48\"/>\n      </g>\n     </g>\n    </g>\n   </g>\n   <g id=\"matplotlib.axis_2\">\n    <g id=\"ytick_1\">\n     <g id=\"line2d_10\">\n      <defs>\n       <path d=\"M 0 0 \nL -3.5 0 \n\" id=\"mef8ec43bc3\" style=\"stroke:#000000;stroke-width:0.8;\"/>\n      </defs>\n      <g>\n       <use style=\"stroke:#000000;stroke-width:0.8;\" x=\"20.5625\" xlink:href=\"#mef8ec43bc3\" y=\"215.788996\"/>\n      </g>\n     </g>\n     <g id=\"text_10\">\n      <!-- 0 -->\n      <g transform=\"translate(7.2 219.588214)scale(0.1 -0.1)\">\n       <use xlink:href=\"#DejaVuSans-48\"/>\n      </g>\n     </g>\n    </g>\n    <g id=\"ytick_2\">\n     <g id=\"line2d_11\">\n      <g>\n       <use style=\"stroke:#000000;stroke-width:0.8;\" x=\"20.5625\" xlink:href=\"#mef8ec43bc3\" y=\"173.27768\"/>\n      </g>\n     </g>\n     <g id=\"text_11\">\n      <!-- 2 -->\n      <g transform=\"translate(7.2 177.076899)scale(0.1 -0.1)\">\n       <use xlink:href=\"#DejaVuSans-50\"/>\n      </g>\n     </g>\n    </g>\n    <g id=\"ytick_3\">\n     <g id=\"line2d_12\">\n      <g>\n       <use style=\"stroke:#000000;stroke-width:0.8;\" x=\"20.5625\" xlink:href=\"#mef8ec43bc3\" y=\"130.766365\"/>\n      </g>\n     </g>\n     <g id=\"text_12\">\n      <!-- 4 -->\n      <defs>\n       <path d=\"M 37.796875 64.3125 \nL 12.890625 25.390625 \nL 37.796875 25.390625 \nz\nM 35.203125 72.90625 \nL 47.609375 72.90625 \nL 47.609375 25.390625 \nL 58.015625 25.390625 \nL 58.015625 17.1875 \nL 47.609375 17.1875 \nL 47.609375 0 \nL 37.796875 0 \nL 37.796875 17.1875 \nL 4.890625 17.1875 \nL 4.890625 26.703125 \nz\n\" id=\"DejaVuSans-52\"/>\n      </defs>\n      <g transform=\"translate(7.2 134.565584)scale(0.1 -0.1)\">\n       <use xlink:href=\"#DejaVuSans-52\"/>\n      </g>\n     </g>\n    </g>\n    <g id=\"ytick_4\">\n     <g id=\"line2d_13\">\n      <g>\n       <use style=\"stroke:#000000;stroke-width:0.8;\" x=\"20.5625\" xlink:href=\"#mef8ec43bc3\" y=\"88.255049\"/>\n      </g>\n     </g>\n     <g id=\"text_13\">\n      <!-- 6 -->\n      <defs>\n       <path d=\"M 33.015625 40.375 \nQ 26.375 40.375 22.484375 35.828125 \nQ 18.609375 31.296875 18.609375 23.390625 \nQ 18.609375 15.53125 22.484375 10.953125 \nQ 26.375 6.390625 33.015625 6.390625 \nQ 39.65625 6.390625 43.53125 10.953125 \nQ 47.40625 15.53125 47.40625 23.390625 \nQ 47.40625 31.296875 43.53125 35.828125 \nQ 39.65625 40.375 33.015625 40.375 \nz\nM 52.59375 71.296875 \nL 52.59375 62.3125 \nQ 48.875 64.0625 45.09375 64.984375 \nQ 41.3125 65.921875 37.59375 65.921875 \nQ 27.828125 65.921875 22.671875 59.328125 \nQ 17.53125 52.734375 16.796875 39.40625 \nQ 19.671875 43.65625 24.015625 45.921875 \nQ 28.375 48.1875 33.59375 48.1875 \nQ 44.578125 48.1875 50.953125 41.515625 \nQ 57.328125 34.859375 57.328125 23.390625 \nQ 57.328125 12.15625 50.6875 5.359375 \nQ 44.046875 -1.421875 33.015625 -1.421875 \nQ 20.359375 -1.421875 13.671875 8.265625 \nQ 6.984375 17.96875 6.984375 36.375 \nQ 6.984375 53.65625 15.1875 63.9375 \nQ 23.390625 74.21875 37.203125 74.21875 \nQ 40.921875 74.21875 44.703125 73.484375 \nQ 48.484375 72.75 52.59375 71.296875 \nz\n\" id=\"DejaVuSans-54\"/>\n      </defs>\n      <g transform=\"translate(7.2 92.054268)scale(0.1 -0.1)\">\n       <use xlink:href=\"#DejaVuSans-54\"/>\n      </g>\n     </g>\n    </g>\n    <g id=\"ytick_5\">\n     <g id=\"line2d_14\">\n      <g>\n       <use style=\"stroke:#000000;stroke-width:0.8;\" x=\"20.5625\" xlink:href=\"#mef8ec43bc3\" y=\"45.743734\"/>\n      </g>\n     </g>\n     <g id=\"text_14\">\n      <!-- 8 -->\n      <defs>\n       <path d=\"M 31.78125 34.625 \nQ 24.75 34.625 20.71875 30.859375 \nQ 16.703125 27.09375 16.703125 20.515625 \nQ 16.703125 13.921875 20.71875 10.15625 \nQ 24.75 6.390625 31.78125 6.390625 \nQ 38.8125 6.390625 42.859375 10.171875 \nQ 46.921875 13.96875 46.921875 20.515625 \nQ 46.921875 27.09375 42.890625 30.859375 \nQ 38.875 34.625 31.78125 34.625 \nz\nM 21.921875 38.8125 \nQ 15.578125 40.375 12.03125 44.71875 \nQ 8.5 49.078125 8.5 55.328125 \nQ 8.5 64.0625 14.71875 69.140625 \nQ 20.953125 74.21875 31.78125 74.21875 \nQ 42.671875 74.21875 48.875 69.140625 \nQ 55.078125 64.0625 55.078125 55.328125 \nQ 55.078125 49.078125 51.53125 44.71875 \nQ 48 40.375 41.703125 38.8125 \nQ 48.828125 37.15625 52.796875 32.3125 \nQ 56.78125 27.484375 56.78125 20.515625 \nQ 56.78125 9.90625 50.3125 4.234375 \nQ 43.84375 -1.421875 31.78125 -1.421875 \nQ 19.734375 -1.421875 13.25 4.234375 \nQ 6.78125 9.90625 6.78125 20.515625 \nQ 6.78125 27.484375 10.78125 32.3125 \nQ 14.796875 37.15625 21.921875 38.8125 \nz\nM 18.3125 54.390625 \nQ 18.3125 48.734375 21.84375 45.5625 \nQ 25.390625 42.390625 31.78125 42.390625 \nQ 38.140625 42.390625 41.71875 45.5625 \nQ 45.3125 48.734375 45.3125 54.390625 \nQ 45.3125 60.0625 41.71875 63.234375 \nQ 38.140625 66.40625 31.78125 66.40625 \nQ 25.390625 66.40625 21.84375 63.234375 \nQ 18.3125 60.0625 18.3125 54.390625 \nz\n\" id=\"DejaVuSans-56\"/>\n      </defs>\n      <g transform=\"translate(7.2 49.542953)scale(0.1 -0.1)\">\n       <use xlink:href=\"#DejaVuSans-56\"/>\n      </g>\n     </g>\n    </g>\n   </g>\n   <g id=\"line2d_15\">\n    <path clip-path=\"url(#p726eed750f)\" d=\"M 35.780682 207.087821 \nL 37.310147 204.501932 \nL 38.839613 208.818922 \nL 40.369078 206.534262 \nL 41.898544 211.715323 \nL 43.428009 207.863126 \nL 44.957475 212.297218 \nL 46.48694 212.621345 \nL 48.016406 212.277445 \nL 49.545871 212.291491 \nL 51.075337 211.565467 \nL 52.604802 211.094774 \nL 54.134268 209.069155 \nL 55.663733 209.25083 \nL 57.193199 212.016452 \nL 58.722664 199.229264 \nL 60.25213 211.900028 \nL 61.781595 210.872237 \nL 63.311061 213.508862 \nL 64.840526 210.936529 \nL 66.369992 211.575902 \nL 67.899458 211.033203 \nL 69.428923 211.231405 \nL 70.958389 211.228111 \nL 72.487854 203.20802 \nL 74.01732 210.685731 \nL 75.546785 212.369685 \nL 77.076251 210.970455 \nL 78.605716 210.625116 \nL 80.135182 213.577056 \nL 81.664647 208.695449 \nL 83.194113 214.038679 \nL 84.723578 209.059831 \nL 86.253044 213.760325 \nL 87.782509 212.397722 \nL 89.311975 212.310792 \nL 90.84144 211.566327 \nL 92.370906 213.92484 \nL 93.900371 210.930833 \nL 95.429837 212.525522 \nL 96.959302 213.621246 \nL 98.488768 213.935445 \nL 100.018233 211.367563 \nL 101.547699 207.523605 \nL 103.077164 211.945788 \nL 104.60663 209.47373 \nL 106.136095 211.374409 \nL 107.665561 211.116068 \nL 109.195026 211.398935 \nL 110.724492 213.671997 \nL 112.253957 212.181099 \nL 113.783423 211.939751 \nL 115.312888 210.179593 \nL 116.842354 211.844342 \nL 118.371819 208.525313 \nL 119.901285 212.775536 \nL 121.43075 211.561903 \nL 122.960216 213.171493 \nL 124.489681 212.872606 \nL 126.019147 212.308773 \nL 127.548612 213.771326 \nL 129.078078 211.314098 \nL 130.607543 213.915804 \nL 132.137009 202.430267 \nL 133.666474 211.443661 \nL 135.19594 212.557274 \nL 138.254871 211.025721 \nL 139.784336 210.837833 \nL 141.313802 213.251293 \nL 142.843267 210.404087 \nL 144.372733 212.781136 \nL 145.902198 214.756364 \nL 147.431664 214.572303 \nL 148.96113 213.606583 \nL 152.020061 212.06891 \nL 153.549526 213.663903 \nL 155.078992 213.83751 \nL 156.608457 213.187157 \nL 158.137923 214.395586 \nL 159.667388 213.135889 \nL 161.196854 212.936308 \nL 162.726319 212.569624 \nL 164.255785 213.470035 \nL 165.78525 212.6011 \nL 167.314716 212.987306 \nL 168.844181 213.087969 \nL 170.373647 213.656395 \nL 171.903112 212.198926 \nL 173.432578 210.47384 \nL 174.962043 213.367449 \nL 176.491509 213.329167 \nL 179.55044 212.97715 \nL 181.079905 213.665145 \nL 182.609371 213.57941 \nL 184.138836 213.719054 \nL 185.668302 213.538082 \nL 187.197767 212.89517 \nL 188.727233 213.333414 \nL 190.256698 213.529468 \nL 191.786164 212.882898 \nL 193.315629 213.166005 \nL 194.845095 213.142541 \nL 196.37456 214.288118 \nL 197.904026 214.565696 \nL 199.433491 214.404804 \nL 200.962957 213.509164 \nL 202.492422 212.272904 \nL 205.551353 213.907907 \nL 207.080819 213.353067 \nL 208.610284 213.922389 \nL 210.13975 212.309703 \nL 211.669215 213.402809 \nL 213.198681 213.352019 \nL 214.728146 213.795285 \nL 216.257612 210.081205 \nL 217.787077 214.062767 \nL 219.316543 214.010316 \nL 220.846008 213.130609 \nL 222.375474 214.68602 \nL 223.904939 214.504 \nL 225.434405 210.749995 \nL 226.96387 213.546657 \nL 228.493336 214.479867 \nL 230.022802 212.855446 \nL 231.552267 213.308821 \nL 233.081733 214.626821 \nL 234.611198 214.629259 \nL 236.140664 213.262368 \nL 237.670129 210.407411 \nL 239.199595 214.276757 \nL 240.72906 212.326916 \nL 242.258526 213.973777 \nL 243.787991 208.844544 \nL 245.317457 212.408505 \nL 246.846922 212.510623 \nL 248.376388 213.113838 \nL 249.905853 213.484135 \nL 251.435319 214.228139 \nL 252.964784 212.196997 \nL 254.49425 213.418779 \nL 256.023715 212.539526 \nL 257.553181 214.254794 \nL 259.082646 213.781406 \nL 260.612112 213.984339 \nL 262.141577 212.446319 \nL 263.671043 214.157554 \nL 265.200508 213.212706 \nL 266.729974 213.113845 \nL 268.259439 213.480953 \nL 269.788905 210.232792 \nL 271.31837 212.25776 \nL 272.847836 213.562317 \nL 274.377301 214.355076 \nL 275.906767 208.691114 \nL 277.436232 212.618285 \nL 278.965698 213.529383 \nL 280.495163 211.427376 \nL 282.024629 213.779166 \nL 283.554094 214.567053 \nL 285.08356 213.285176 \nL 286.613025 213.148141 \nL 288.142491 212.745281 \nL 289.671956 210.324689 \nL 291.201422 214.337429 \nL 292.730887 212.815675 \nL 294.260353 213.304796 \nL 295.789818 214.544259 \nL 297.319284 213.83924 \nL 298.848749 213.401527 \nL 300.378215 213.178895 \nL 301.90768 214.279476 \nL 303.437146 211.9673 \nL 304.966611 214.425995 \nL 306.496077 213.518229 \nL 308.025542 213.150472 \nL 309.555008 212.597757 \nL 311.084474 214.564114 \nL 312.613939 209.65158 \nL 314.143405 211.619802 \nL 315.67287 213.844647 \nL 318.731801 211.028873 \nL 320.261267 213.249174 \nL 321.790732 212.851372 \nL 323.320198 212.588347 \nL 324.849663 211.287091 \nL 326.379129 208.982956 \nL 327.908594 211.849969 \nL 329.43806 211.418012 \nL 330.967525 213.571567 \nL 334.026456 212.396103 \nL 335.555922 211.948383 \nL 337.085387 211.099682 \nL 340.144318 212.834288 \nL 340.144318 212.834288 \n\" style=\"fill:none;stroke:#1f77b4;stroke-linecap:square;stroke-width:1.5;\"/>\n   </g>\n   <g id=\"line2d_16\">\n    <path clip-path=\"url(#p726eed750f)\" d=\"M 35.780682 194.969354 \nL 37.310147 159.754132 \nL 38.839613 194.648202 \nL 40.369078 199.4543 \nL 41.898544 167.289801 \nL 43.428009 192.443563 \nL 46.48694 151.128047 \nL 48.016406 169.63828 \nL 49.545871 143.505882 \nL 51.075337 181.456522 \nL 52.604802 149.281569 \nL 54.134268 193.257032 \nL 55.663733 181.591446 \nL 57.193199 172.895588 \nL 58.722664 204.825763 \nL 60.25213 138.499524 \nL 61.781595 138.498708 \nL 63.311061 146.414696 \nL 64.840526 173.283156 \nL 66.369992 113.7877 \nL 67.899458 119.413068 \nL 69.428923 140.643397 \nL 70.958389 178.065431 \nL 72.487854 81.965118 \nL 74.01732 184.843252 \nL 75.546785 175.849005 \nL 77.076251 176.229271 \nL 78.605716 176.111302 \nL 80.135182 161.20558 \nL 81.664647 155.942566 \nL 83.194113 131.916266 \nL 84.723578 137.621238 \nL 86.253044 157.294184 \nL 87.782509 145.642108 \nL 89.311975 131.990347 \nL 90.84144 135.199424 \nL 92.370906 157.092873 \nL 93.900371 180.754992 \nL 95.429837 170.47391 \nL 96.959302 152.040859 \nL 98.488768 156.837595 \nL 100.018233 179.367671 \nL 101.547699 96.63204 \nL 103.077164 180.285339 \nL 104.60663 169.050315 \nL 106.136095 155.641887 \nL 107.665561 177.578788 \nL 109.195026 153.875575 \nL 110.724492 150.974013 \nL 112.253957 135.539551 \nL 113.783423 69.052547 \nL 115.312888 165.003246 \nL 116.842354 169.942674 \nL 118.371819 189.61752 \nL 119.901285 170.804728 \nL 121.43075 158.908772 \nL 122.960216 174.123231 \nL 124.489681 144.308759 \nL 126.019147 168.570684 \nL 127.548612 141.190926 \nL 129.078078 166.99605 \nL 130.607543 155.313183 \nL 132.137009 201.517019 \nL 133.666474 168.886506 \nL 135.19594 153.884281 \nL 136.725405 169.397947 \nL 138.254871 165.65178 \nL 139.784336 171.838279 \nL 141.313802 173.604611 \nL 142.843267 123.358783 \nL 144.372733 177.13812 \nL 145.902198 126.204291 \nL 147.431664 140.841065 \nL 148.96113 135.813452 \nL 150.490595 156.353033 \nL 152.020061 165.604893 \nL 153.549526 139.456329 \nL 155.078992 106.756165 \nL 156.608457 144.378704 \nL 158.137923 151.084201 \nL 159.667388 166.47244 \nL 161.196854 85.620907 \nL 162.726319 88.036072 \nL 164.255785 157.937549 \nL 167.314716 136.767678 \nL 168.844181 132.025653 \nL 170.373647 146.929244 \nL 171.903112 148.287405 \nL 173.432578 170.392517 \nL 174.962043 159.045809 \nL 176.491509 161.85941 \nL 178.020974 151.553048 \nL 179.55044 161.580649 \nL 181.079905 145.259357 \nL 182.609371 145.330006 \nL 184.138836 160.896458 \nL 185.668302 159.926902 \nL 187.197767 167.221215 \nL 188.727233 151.48959 \nL 190.256698 120.420232 \nL 191.786164 116.877564 \nL 193.315629 138.588752 \nL 194.845095 155.564385 \nL 196.37456 153.60179 \nL 197.904026 127.209386 \nL 199.433491 148.92179 \nL 200.962957 146.760108 \nL 202.492422 131.840412 \nL 204.021888 142.892082 \nL 205.551353 163.717519 \nL 207.080819 143.725183 \nL 208.610284 140.756884 \nL 210.13975 178.792515 \nL 211.669215 118.282657 \nL 213.198681 148.027946 \nL 214.728146 161.040949 \nL 216.257612 149.26444 \nL 217.787077 115.393699 \nL 219.316543 160.247214 \nL 220.846008 166.393449 \nL 222.375474 143.448784 \nL 223.904939 115.850029 \nL 225.434405 108.876398 \nL 226.96387 118.717186 \nL 228.493336 137.108535 \nL 230.022802 158.994128 \nL 231.552267 112.517825 \nL 233.081733 134.161642 \nL 234.611198 137.255905 \nL 236.140664 137.887913 \nL 237.670129 152.6356 \nL 239.199595 141.227151 \nL 240.72906 150.489643 \nL 242.258526 149.136226 \nL 243.787991 106.269459 \nL 245.317457 177.786705 \nL 246.846922 119.833316 \nL 248.376388 149.327974 \nL 249.905853 157.401843 \nL 251.435319 110.018394 \nL 252.964784 149.974426 \nL 254.49425 144.043124 \nL 256.023715 133.926133 \nL 257.553181 139.339102 \nL 259.082646 132.676534 \nL 260.612112 110.337884 \nL 262.141577 151.060829 \nL 265.200508 142.261087 \nL 266.729974 144.960998 \nL 268.259439 85.885535 \nL 269.788905 160.91493 \nL 271.31837 158.728208 \nL 272.847836 126.457577 \nL 274.377301 153.726786 \nL 275.906767 17.083636 \nL 277.436232 133.338412 \nL 278.965698 110.554419 \nL 280.495163 138.621631 \nL 282.024629 140.993837 \nL 283.554094 132.326039 \nL 285.08356 134.765504 \nL 286.613025 148.577209 \nL 288.142491 160.879187 \nL 291.201422 126.993865 \nL 292.730887 148.51933 \nL 294.260353 105.61194 \nL 295.789818 145.016688 \nL 297.319284 94.795165 \nL 298.848749 126.851989 \nL 300.378215 153.663186 \nL 301.90768 138.440784 \nL 303.437146 121.9432 \nL 304.966611 125.33274 \nL 308.025542 159.068811 \nL 309.555008 134.678557 \nL 311.084474 150.363188 \nL 312.613939 60.11697 \nL 314.143405 116.128349 \nL 315.67287 142.572312 \nL 317.202336 159.152328 \nL 318.731801 132.908495 \nL 320.261267 171.725846 \nL 321.790732 153.185941 \nL 323.320198 159.18538 \nL 324.849663 148.148705 \nL 326.379129 88.788308 \nL 327.908594 92.771787 \nL 329.43806 146.913828 \nL 330.967525 136.748862 \nL 332.496991 134.12789 \nL 334.026456 157.74499 \nL 335.555922 157.706835 \nL 337.085387 141.946537 \nL 338.614853 175.695615 \nL 340.144318 131.865827 \nL 340.144318 131.865827 \n\" style=\"fill:none;stroke:#ff7f0e;stroke-linecap:square;stroke-width:1.5;\"/>\n   </g>\n   <g id=\"patch_3\">\n    <path d=\"M 20.5625 224.64 \nL 20.5625 7.2 \n\" style=\"fill:none;stroke:#000000;stroke-linecap:square;stroke-linejoin:miter;stroke-width:0.8;\"/>\n   </g>\n   <g id=\"patch_4\">\n    <path d=\"M 355.3625 224.64 \nL 355.3625 7.2 \n\" style=\"fill:none;stroke:#000000;stroke-linecap:square;stroke-linejoin:miter;stroke-width:0.8;\"/>\n   </g>\n   <g id=\"patch_5\">\n    <path d=\"M 20.5625 224.64 \nL 355.3625 224.64 \n\" style=\"fill:none;stroke:#000000;stroke-linecap:square;stroke-linejoin:miter;stroke-width:0.8;\"/>\n   </g>\n   <g id=\"patch_6\">\n    <path d=\"M 20.5625 7.2 \nL 355.3625 7.2 \n\" style=\"fill:none;stroke:#000000;stroke-linecap:square;stroke-linejoin:miter;stroke-width:0.8;\"/>\n   </g>\n  </g>\n </g>\n <defs>\n  <clipPath id=\"p726eed750f\">\n   <rect height=\"217.44\" width=\"334.8\" x=\"20.5625\" y=\"7.2\"/>\n  </clipPath>\n </defs>\n</svg>\n",
      "image/png": "[encoded data removed]"
     },
     "metadata": {
      "needs_background": "light"
     }
    }
   ],
   "source": [
    "# Plot losses\n",
    "\n",
    "plt.plot(d_losses, label=\"d_loss\")\n",
    "plt.plot(g_losses, label=\"g_loss\")\n",
    "plt.show()"
   ]
  },
  {
   "cell_type": "code",
   "execution_count": 10,
   "metadata": {},
   "outputs": [
    {
     "output_type": "display_data",
     "data": {
      "text/plain": "<Figure size 432x288 with 6 Axes>",
      "image/svg+xml": "<?xml version=\"1.0\" encoding=\"utf-8\" standalone=\"no\"?>\n<!DOCTYPE svg PUBLIC \"-//W3C//DTD SVG 1.1//EN\"\n  \"http://www.w3.org/Graphics/SVG/1.1/DTD/svg11.dtd\">\n<!-- Created with matplotlib (https://matplotlib.org/) -->\n<svg height=\"261.529167pt\" version=\"1.1\" viewBox=\"0 0 416.8 261.529167\" width=\"416.8pt\" xmlns=\"http://www.w3.org/2000/svg\" xmlns:xlink=\"http://www.w3.org/1999/xlink\">\n <defs>\n  <style type=\"text/css\">\n*{stroke-linecap:butt;stroke-linejoin:round;}\n  </style>\n </defs>\n <g id=\"figure_1\">\n  <g id=\"patch_1\">\n   <path d=\"M 0 261.529167 \nL 416.8 261.529167 \nL 416.8 0 \nL 0 0 \nz\n\" style=\"fill:none;\"/>\n  </g>\n  <g id=\"axes_1\">\n   <g id=\"patch_2\">\n    <path d=\"M 10.7 117.633333 \nL 121.133333 117.633333 \nL 121.133333 7.2 \nL 10.7 7.2 \nz\n\" style=\"fill:#ffffff;\"/>\n   </g>\n   <g clip-path=\"url(#p236c34b3e5)\">\n    <image height=\"28\" id=\"image01cf8b64b1\" transform=\"matrix(3.964286 0 0 3.964286 10.7 6.633333)\" width=\"28\" xlink:href=\"data:image/png;base64,\niVBORw0KGgoAAAANSUhEUgAAABwAAAAcCAYAAAByDd+UAAAABHNCSVQICAgIfAhkiAAAAttJREFUSInVVk1L41AUPS9pjERtRaoWERQRcSG4qLr3Nyi4VBBx49q/4Mbf4C9x14X7giiCdicqNKF9hDZf78zCSaaZpOnQEYe58Eh477577se5NxEAiG8UbdyLQoiROsfHx9l7+F8i/CeA1WoVwGd6TdPM1Tk5OcnssWjNz89T13UKIfj+/k7f93l/f896vc5BCYKArVaLNzc3uXYeHh7i92JAz/No23bKeBRFzJN+v8/t7e1Ce0MBn56eKIRgqVRKAMMwZBAEJEnf90mSUkpKKRPQ29tbLiwsDAXMsFQIAfJzSykFIQS63S40TcP6+jra7TYODg5wfn4OwzBgmiZ2d3d/1YeEphVQo1arEQA1TUt5MjU1lfZMiORd0zQ2m032ej02Gg16nkelFG3b5urqamFKR/bhYMSxaJqGKIpAElEUIQxD6LoOy7IQhmGRuc8sDHpe5B0AlstlhmGYS5hRd+Pg/kjx9PQ0l5kxa8/Ozr4OsFQqsdlsDgUjSaUU9/f3OTc3Nxpwc3OzUKnT6aR6z3VdSikTssQt47ouj46OuLW1NT5pAMD3fRiGgY+PD7TbbSwtLcFxHNi2jY2NDUxPTwMAer0epJSo1WoZogFAEARp0gxLZ/zc29tLnV1cXLDb7abGm1Lqa0iTt9bW1jJj7u7urpDtuSPh94/rsI/tzs5OZqrU63VMTk7m6seS8eL6+jo1XfI8Nk2TrVYrw1pd14dG9/MsW7PDw0MCoJSSURRxZWWFi4uLiQPlcpmO46TaIpbYmUGbg2MxN8KJiQm+vLwkRnzf59XVFaWUfH5+TrXC6+sr397e6HkehRCcmZkprHvSFkEQwDCMJM+u68KyrPwakBBCJPWrVCoQQsBxnMLaDa1hnJJGo5FJmVKKURTRsqxx2Z1/ENdjdnaWlUqF/X6fSik+Pj5yeXl57FYaCpjKuxC8vLxktVr9G6B0Db9LvvS/tNPpjNT5AdFMg8S2m7cDAAAAAElFTkSuQmCC\"/>\n   </g>\n   <g id=\"matplotlib.axis_1\"/>\n   <g id=\"matplotlib.axis_2\"/>\n   <g id=\"patch_3\">\n    <path d=\"M 10.7 117.633333 \nL 10.7 7.2 \n\" style=\"fill:none;stroke:#000000;stroke-linecap:square;stroke-linejoin:miter;stroke-width:0.8;\"/>\n   </g>\n   <g id=\"patch_4\">\n    <path d=\"M 121.133333 117.633333 \nL 121.133333 7.2 \n\" style=\"fill:none;stroke:#000000;stroke-linecap:square;stroke-linejoin:miter;stroke-width:0.8;\"/>\n   </g>\n   <g id=\"patch_5\">\n    <path d=\"M 10.7 117.633333 \nL 121.133333 117.633333 \n\" style=\"fill:none;stroke:#000000;stroke-linecap:square;stroke-linejoin:miter;stroke-width:0.8;\"/>\n   </g>\n   <g id=\"patch_6\">\n    <path d=\"M 10.7 7.2 \nL 121.133333 7.2 \n\" style=\"fill:none;stroke:#000000;stroke-linecap:square;stroke-linejoin:miter;stroke-width:0.8;\"/>\n   </g>\n  </g>\n  <g id=\"axes_2\">\n   <g id=\"patch_7\">\n    <path d=\"M 154.933333 117.633333 \nL 265.366667 117.633333 \nL 265.366667 7.2 \nL 154.933333 7.2 \nz\n\" style=\"fill:#ffffff;\"/>\n   </g>\n   <g clip-path=\"url(#p30d5fb4245)\">\n    <image height=\"28\" id=\"image18ff6d00f7\" transform=\"matrix(3.964286 0 0 3.964286 154.933333 6.633333)\" width=\"28\" xlink:href=\"data:image/png;base64,\niVBORw0KGgoAAAANSUhEUgAAABwAAAAcCAYAAAByDd+UAAAABHNCSVQICAgIfAhkiAAAAaxJREFUSIntljHPKUEUht8zJCKiIBREISqlYqNTqETnb6hVfoBGq/AflBqiUEv0oqCQjYJqk00kYux7q29jud/9ZnHlFvdNTjGz5+xz3jPFjAAgPij1SZgxsFwuvw0o+D/SfwGotQZJP1qtFkQEAHA+n3+sp0lEIhF6nsfvdDwejf5jDLxcLgFAu91mNpsN7A0GA7quy1gs9hrwVrlcjtFolAColOJ2u+VwOPS/LxaL5x3eazabPeSICIvFYiDvLcB6vR6A3Ob1ej1TmDnwuxzLssK4Mwfeu4rH4wTA/X7v56zX6/cBb7tPpVKhpvAjMJ/PEwCXy+UDdDqd/rap+wk85VBEHoDX65UkOZlMuNvt/P1ut/s6EABt2+bpdKLWmpVKhYlEguPxmPP5nP1+/70Ov6LRaHCz2fBwOPjjHo1Gz5yfGVBEWCgU2Ol0aFlWwNlfAQJgqVSibdtcrVZsNpsBmFLqj7V3DRl3RqUUM5kMHceh1pok6ThOGHfhgACYTqdfGSdDX8DVahWu64Yt8xUaWKvVkEwm/fXXTW+qp15tIgLP8z4HfEUff7X9AlLJHR+Re7U8AAAAAElFTkSuQmCC\"/>\n   </g>\n   <g id=\"matplotlib.axis_3\"/>\n   <g id=\"matplotlib.axis_4\"/>\n   <g id=\"patch_8\">\n    <path d=\"M 154.933333 117.633333 \nL 154.933333 7.2 \n\" style=\"fill:none;stroke:#000000;stroke-linecap:square;stroke-linejoin:miter;stroke-width:0.8;\"/>\n   </g>\n   <g id=\"patch_9\">\n    <path d=\"M 265.366667 117.633333 \nL 265.366667 7.2 \n\" style=\"fill:none;stroke:#000000;stroke-linecap:square;stroke-linejoin:miter;stroke-width:0.8;\"/>\n   </g>\n   <g id=\"patch_10\">\n    <path d=\"M 154.933333 117.633333 \nL 265.366667 117.633333 \n\" style=\"fill:none;stroke:#000000;stroke-linecap:square;stroke-linejoin:miter;stroke-width:0.8;\"/>\n   </g>\n   <g id=\"patch_11\">\n    <path d=\"M 154.933333 7.2 \nL 265.366667 7.2 \n\" style=\"fill:none;stroke:#000000;stroke-linecap:square;stroke-linejoin:miter;stroke-width:0.8;\"/>\n   </g>\n  </g>\n  <g id=\"axes_3\">\n   <g id=\"patch_12\">\n    <path d=\"M 299.166667 117.633333 \nL 409.6 117.633333 \nL 409.6 7.2 \nL 299.166667 7.2 \nz\n\" style=\"fill:#ffffff;\"/>\n   </g>\n   <g clip-path=\"url(#p03c6e5ffc4)\">\n    <image height=\"28\" id=\"image798a86ffa5\" transform=\"matrix(3.964286 0 0 3.964286 299.166667 6.633333)\" width=\"28\" xlink:href=\"data:image/png;base64,\niVBORw0KGgoAAAANSUhEUgAAABwAAAAcCAYAAAByDd+UAAAABHNCSVQICAgIfAhkiAAAAUVJREFUSIntVkGORUAUfDoSCwkrK4m1O1jY2UncgRs4glM4hgNwJmIjJGoWE4av0d3/j8xiKumE7nqvtFf90IgI9CDYk2LCgmVZfkxQo/9X+hcEGWMEgABQ27a7tXmeb+MhOpqmge/7qKoKWZZhC4k8YsSiKAAA0zTt5hVE70lXSYdhgOM4wqKXx+I7/geapp3XZcO94gmbZpvEdd3dWhzHQmLrw52NBUmSnHIMw5Ct473gOI7cNSJCXdefM82CruvQ9/1u3vM8JZdyTQNgrcVyfWaKZZ5XO8bYoRHoBxYn4atbAZCu6xRFES98Ba/rvP21uNohD1K9NAzD3b1lWTLhK2T64DpM00Se57/XS4kIQRDAsqzVnbZtC4ltOW/VULZ+RIrfwzRND84VhfIORZv1K5R2qCqmLCgrsoulNw++LB7/a/sC4lCn4CG9O2EAAAAASUVORK5CYII=\"/>\n   </g>\n   <g id=\"matplotlib.axis_5\"/>\n   <g id=\"matplotlib.axis_6\"/>\n   <g id=\"patch_13\">\n    <path d=\"M 299.166667 117.633333 \nL 299.166667 7.2 \n\" style=\"fill:none;stroke:#000000;stroke-linecap:square;stroke-linejoin:miter;stroke-width:0.8;\"/>\n   </g>\n   <g id=\"patch_14\">\n    <path d=\"M 409.6 117.633333 \nL 409.6 7.2 \n\" style=\"fill:none;stroke:#000000;stroke-linecap:square;stroke-linejoin:miter;stroke-width:0.8;\"/>\n   </g>\n   <g id=\"patch_15\">\n    <path d=\"M 299.166667 117.633333 \nL 409.6 117.633333 \n\" style=\"fill:none;stroke:#000000;stroke-linecap:square;stroke-linejoin:miter;stroke-width:0.8;\"/>\n   </g>\n   <g id=\"patch_16\">\n    <path d=\"M 299.166667 7.2 \nL 409.6 7.2 \n\" style=\"fill:none;stroke:#000000;stroke-linecap:square;stroke-linejoin:miter;stroke-width:0.8;\"/>\n   </g>\n  </g>\n  <g id=\"axes_4\">\n   <g id=\"patch_17\">\n    <path d=\"M 10.7 250.829167 \nL 121.133333 250.829167 \nL 121.133333 140.395833 \nL 10.7 140.395833 \nz\n\" style=\"fill:#ffffff;\"/>\n   </g>\n   <g clip-path=\"url(#p022af20db0)\">\n    <image height=\"28\" id=\"imagef41486429e\" transform=\"matrix(3.964286 0 0 3.964286 10.7 139.829167)\" width=\"28\" xlink:href=\"data:image/png;base64,\niVBORw0KGgoAAAANSUhEUgAAABwAAAAcCAYAAAByDd+UAAAABHNCSVQICAgIfAhkiAAAAhlJREFUSIndVsFq6lAQPZMYkEBRDBhcZCvFlbgKLuyi32LpFxR/QOjOhbh347Kf4E8UBBXdCEqJdBEkoYQk5y0eyrOv1ptKC+8NDGQud+bcM5mZewUA8YOifWdwEfl7Df8Tw38XsF6vAwA6nQ7CMESj0UAul1P25zkVEeq6zmKxeLQ+n8+ZJAnDMORiseDNzc3ZWCcZNpvNw7eIIE1T+L4PEcHt7S2GwyEcx0EURQCAcrkMUq3+Tp6mWq0SAPP5PDVNO6wbhsHBYMD7+3tOJhPu5fr6+ixDpZSe0m63y6enJy6XS8ZxzHw+/32AhmFQRLherxnHMS3LUvK7qC0eHx9h2zZEBJqmHupLDC3LIkkmScKHhwdlP+Vj7eeiiMA0TTiOc7B1XVdmp9StlUoFlmXB8zxEUYQ4jtHv9wEAQRAgCAJlQEAhDaVSiXd3d9xut3x+fuZms2GSJCRJz/No27ZaOn+3lvp/m06nrNVqbLVanM1mTNNUabq802zFUigUOB6PmSQJX19fMxdb5rbwfR9XV1eIogjlcjmrOzIzdF2XJBkEwdm9pmleznA/oEej0YdPiD8lDMPLGPZ6Pb69vTEMQ7qu++GeXC6nVjSfbRQRmqbJ1WrF3W7HdrtNEclcMEeAn6mI0HEckmQcxyossgPW6/Uj++Xl5TA7LwDj2WeiiIAk0jSFruvKt/p7/4N9DvAz56/Ijz+EfwGghi3a7d962wAAAABJRU5ErkJggg==\"/>\n   </g>\n   <g id=\"matplotlib.axis_7\"/>\n   <g id=\"matplotlib.axis_8\"/>\n   <g id=\"patch_18\">\n    <path d=\"M 10.7 250.829167 \nL 10.7 140.395833 \n\" style=\"fill:none;stroke:#000000;stroke-linecap:square;stroke-linejoin:miter;stroke-width:0.8;\"/>\n   </g>\n   <g id=\"patch_19\">\n    <path d=\"M 121.133333 250.829167 \nL 121.133333 140.395833 \n\" style=\"fill:none;stroke:#000000;stroke-linecap:square;stroke-linejoin:miter;stroke-width:0.8;\"/>\n   </g>\n   <g id=\"patch_20\">\n    <path d=\"M 10.7 250.829167 \nL 121.133333 250.829167 \n\" style=\"fill:none;stroke:#000000;stroke-linecap:square;stroke-linejoin:miter;stroke-width:0.8;\"/>\n   </g>\n   <g id=\"patch_21\">\n    <path d=\"M 10.7 140.395833 \nL 121.133333 140.395833 \n\" style=\"fill:none;stroke:#000000;stroke-linecap:square;stroke-linejoin:miter;stroke-width:0.8;\"/>\n   </g>\n  </g>\n  <g id=\"axes_5\">\n   <g id=\"patch_22\">\n    <path d=\"M 154.933333 250.829167 \nL 265.366667 250.829167 \nL 265.366667 140.395833 \nL 154.933333 140.395833 \nz\n\" style=\"fill:#ffffff;\"/>\n   </g>\n   <g clip-path=\"url(#p0fbd1b613e)\">\n    <image height=\"28\" id=\"imaged5c2084834\" transform=\"matrix(3.964286 0 0 3.964286 154.933333 139.829167)\" width=\"28\" xlink:href=\"data:image/png;base64,\niVBORw0KGgoAAAANSUhEUgAAABwAAAAcCAYAAAByDd+UAAAABHNCSVQICAgIfAhkiAAAA6VJREFUSImlVr1L814UPjc36VfAOrR2tCB0Ege1Lgr9E8TBQTo5dxJEcBLq4iIqgptrpYv4QUEQpdjBSRCl4uZUtbVFbSxpmjTPb/DXvP1I+5a+DxySnPvx3HPuee4NEREaxhhD8zcRYWpqqsP3jzbYQFmWQUQQRbFrH855h481WNshiiIZhmHX9E8Q2h2MMSKivska/T0eT4s/EAh0HTPwfkxPT0MURaytreHs7My2T6FQGHwPHQ4HZmZmsLCwgJOTE7SjVqthcXHRdmy9Xu+PcGhoCJxzJBIJXF5edpC0I5fLDValgiBY7z6fD6VSCYVCoYOgXq/DNE3ru1qtIhaLDSaLnZ0daJqGvb09fH9/Q1VVfH5+WkSvr694e3tDtVptWUQwGOw6JyuXyxgeHv6tHoCAX5X4/X4qFosEgDjnlEwmqV6v093dHYXDYZqfnyfOOX19fZEsyyRJEpmmSff39xQOh7tWaFcdNjAyMkI/Pz8UDAZpbm6OvF4vybJMGxsbRERUq9Xo5eWFQqEQTUxMUDabtRZtB5HoV0sArGczAJCqqlQsFikUClEgEKBoNPpnAlGksbExyufz9PT01JPMmrObNY4mt9vdsU/NUlBVFVdXV4hGo+Cc257J1Fw0dh3i8TgYY9je3sbx8TF0Xe+oTl3X8fHxYVXp7e0tFEWB3+/vTXh9fW3bmM1mkUqlYBgGVFXF8vIyTk9PsbS0hK2tLSSTSby/v6Ner7fIQlGUwWQhSRJWVlYAAAcHB5bf4/FAlmV4vV6Mj493pPnw8ND2FtE0rTehIAgAgKOjI9urRpZlrK+vW0SN1Mbj8cEiTKfTyOfzeHx8tO6/ZnO5XC3pBABN03rekdReMA6HAz6fD0QERVEQiUSgKApWV1dbSBljSCQSHeksl8uYnZ1tORrbsvP74nQ6LadhGOCcQ9M0PD8/Q9M0RKNRZDIZiKIISZKwu7trK5NYLGaRtUf6P3FnmiYnJ8E5t/ak8dR1Hfv7+8hkMjAMo0OPpmnaRYSbm5vue+h2uxGJRJDNZjuKwQ65XA6bm5tIpVJgjLWksmfRVCqVlobz83OoqmpLous6TNOEw+GAIAgQBMHa9z7sTxE0pMAYA2MMFxcXSKfTqFQqLWSlUgmzs7P9EvQnCwBgjIFzDqfTiYeHByiKgtHRUVtN9rJGMB6Pp7cOmwfIsvy3Q3mwCCVJ6rrCv1k/kQsul4uaoes6tQNNd1zjP9QO1Wq1a1sD/wH8a7NOb3NaIQAAAABJRU5ErkJggg==\"/>\n   </g>\n   <g id=\"matplotlib.axis_9\"/>\n   <g id=\"matplotlib.axis_10\"/>\n   <g id=\"patch_23\">\n    <path d=\"M 154.933333 250.829167 \nL 154.933333 140.395833 \n\" style=\"fill:none;stroke:#000000;stroke-linecap:square;stroke-linejoin:miter;stroke-width:0.8;\"/>\n   </g>\n   <g id=\"patch_24\">\n    <path d=\"M 265.366667 250.829167 \nL 265.366667 140.395833 \n\" style=\"fill:none;stroke:#000000;stroke-linecap:square;stroke-linejoin:miter;stroke-width:0.8;\"/>\n   </g>\n   <g id=\"patch_25\">\n    <path d=\"M 154.933333 250.829167 \nL 265.366667 250.829167 \n\" style=\"fill:none;stroke:#000000;stroke-linecap:square;stroke-linejoin:miter;stroke-width:0.8;\"/>\n   </g>\n   <g id=\"patch_26\">\n    <path d=\"M 154.933333 140.395833 \nL 265.366667 140.395833 \n\" style=\"fill:none;stroke:#000000;stroke-linecap:square;stroke-linejoin:miter;stroke-width:0.8;\"/>\n   </g>\n  </g>\n  <g id=\"axes_6\">\n   <g id=\"patch_27\">\n    <path d=\"M 299.166667 250.829167 \nL 409.6 250.829167 \nL 409.6 140.395833 \nL 299.166667 140.395833 \nz\n\" style=\"fill:#ffffff;\"/>\n   </g>\n   <g clip-path=\"url(#p915461bc68)\">\n    <image height=\"28\" id=\"imageed191eb74f\" transform=\"matrix(3.964286 0 0 3.964286 299.166667 139.829167)\" width=\"28\" xlink:href=\"data:image/png;base64,\niVBORw0KGgoAAAANSUhEUgAAABwAAAAcCAYAAAByDd+UAAAABHNCSVQICAgIfAhkiAAAA2pJREFUSImlVk1LMlEUPvc6fisugrKNSB8kbQp0IVO0DFpFP6BttSnoR7QPgiCqTcuCNkEQ/oIoiNpalFkIhplIps7c+7yLtxmcZrSpDhwc55x7H865z3nmEhGhl8disZ7xX/jvFnq9XhARGGNdc8LhsO0dM1C/GuecpJROoT8Z7xb4KRjn1q0URfkZoBtLp9PEOafp6WlaWlqyxHRdJyKii4sL2zrX5zYyMoL9/X0cHBxgc3MTX63VamF5edlxbbPZdEeaTCaDeDyOl5cXvL292UA6TQiBo6MjK0nspHIGikaj5rOqqmg2m3h/f7eB6LoOXdfN/9VqFTMzM78bi9vbW2iahrOzM9Trddzf3+P09BS6rkPTNJRKJTw8PEDXdUgpTVBFUboDXl5eOpYeCoUsbclmsxgYGEA8Hsf8/Dzq9TqEECiVSmg0GhBC4PX1FYuLi38bfI/HA845fD4fIpEIkskkUqmUWY2maSgUCmi32/D5fO6UxqjOSTU45yZwOp3G+vo6hBAmoJQSQgjc3d25YrpCRAT8Fxvjt9OklMQ5p0qlQrFYzBYnImq327S7u0uBQICazaZjTqf11MFoNIqFhQVomuY4Cq1WyyTMxsYGTk5O4PF4erd0b2/PMZhIJDA4OAhN06BpGorFImq1Gg4PD3F1dYV8Po9GowEppQlaLpdxfX39N9JIKZHP5+H3+6EoCjKZDMbHxzExMYHV1VVb1alUqpfa9AYsl8sYHh4GY8xGqng8juPjY4vSAEAymfxdhaFQCIlEAtls1pHB4XDYojIAUKlUTGY7OWeMWRjEGCO/309ERGtra/T09ESjo6MUiUToa+7Kygp5PB7LO6/XS/39/bY9O808K+O5Xq+DMYZcLofJyUns7OwgEAiYrWKMYWpqyiJnhg0NDXWd68/KrSX7/X6oqgrGmHkmlUoFHx8fuLm5gaqq2Nraso2JEAJSSotYGD47O9v9DA1FKRQKls0MgM6qhBB4fn7G9vY2zs/PHcG6kqbValkCxWLRRgjDdF2HEAKcc5O9wWDQlbQ5stTofS6Xw+Pjo6V9QghUq1X09fW5BXA3FgBARPD5fAgGgyiXy2i325ibm+v9vevhn1fL7xM55xgbG/tOI1257V7KGLN9NdzeUd3k2Qb/KxiR+ztqrVb7NucfmlpdXNcVOfkAAAAASUVORK5CYII=\"/>\n   </g>\n   <g id=\"matplotlib.axis_11\"/>\n   <g id=\"matplotlib.axis_12\"/>\n   <g id=\"patch_28\">\n    <path d=\"M 299.166667 250.829167 \nL 299.166667 140.395833 \n\" style=\"fill:none;stroke:#000000;stroke-linecap:square;stroke-linejoin:miter;stroke-width:0.8;\"/>\n   </g>\n   <g id=\"patch_29\">\n    <path d=\"M 409.6 250.829167 \nL 409.6 140.395833 \n\" style=\"fill:none;stroke:#000000;stroke-linecap:square;stroke-linejoin:miter;stroke-width:0.8;\"/>\n   </g>\n   <g id=\"patch_30\">\n    <path d=\"M 299.166667 250.829167 \nL 409.6 250.829167 \n\" style=\"fill:none;stroke:#000000;stroke-linecap:square;stroke-linejoin:miter;stroke-width:0.8;\"/>\n   </g>\n   <g id=\"patch_31\">\n    <path d=\"M 299.166667 140.395833 \nL 409.6 140.395833 \n\" style=\"fill:none;stroke:#000000;stroke-linecap:square;stroke-linejoin:miter;stroke-width:0.8;\"/>\n   </g>\n  </g>\n </g>\n <defs>\n  <clipPath id=\"p236c34b3e5\">\n   <rect height=\"110.433333\" width=\"110.433333\" x=\"10.7\" y=\"7.2\"/>\n  </clipPath>\n  <clipPath id=\"p30d5fb4245\">\n   <rect height=\"110.433333\" width=\"110.433333\" x=\"154.933333\" y=\"7.2\"/>\n  </clipPath>\n  <clipPath id=\"p03c6e5ffc4\">\n   <rect height=\"110.433333\" width=\"110.433333\" x=\"299.166667\" y=\"7.2\"/>\n  </clipPath>\n  <clipPath id=\"p022af20db0\">\n   <rect height=\"110.433333\" width=\"110.433333\" x=\"10.7\" y=\"140.395833\"/>\n  </clipPath>\n  <clipPath id=\"p0fbd1b613e\">\n   <rect height=\"110.433333\" width=\"110.433333\" x=\"154.933333\" y=\"140.395833\"/>\n  </clipPath>\n  <clipPath id=\"p915461bc68\">\n   <rect height=\"110.433333\" width=\"110.433333\" x=\"299.166667\" y=\"140.395833\"/>\n  </clipPath>\n </defs>\n</svg>\n",
      "image/png": "[encoded data removed]"
     },
     "metadata": {}
    }
   ],
   "source": [
    "## Print result\n",
    "\n",
    "gen_imgs_view = gen_imgs.view(gen_imgs.size(0), 1, 28, 28).cpu().detach().numpy()\n",
    "\n",
    "for i in range(6):\n",
    "  plt.subplot(2,3,i+1)\n",
    "  plt.tight_layout()\n",
    "  plt.imshow(gen_imgs_view[i][0], cmap='gray', interpolation='none')\n",
    "  plt.xticks([])\n",
    "  plt.yticks([])\n",
    "plt.show()"
   ]
  },
  {
   "cell_type": "code",
   "execution_count": null,
   "metadata": {},
   "outputs": [],
   "source": []
  }
 ],
 "metadata": {
  "accelerator": "GPU",
  "colab": {
   "collapsed_sections": [],
   "name": "Copy of W1 .ipynb",
   "provenance": [
    {
     "file_id": "1eweqg9Qaci_mo5rhnH7knZCqZZ7FDkLy",
     "timestamp": 1572649016096
    },
    {
     "file_id": "https://github.com/muchlisinadi/DSC_UI_GAN/blob/master/batch1/week1/W1.ipynb",
     "timestamp": 1572627799240
    }
   ],
   "toc_visible": true
  },
  "kernelspec": {
   "display_name": "Python 3",
   "language": "python",
   "name": "python3"
  },
  "language_info": {
   "codemirror_mode": {
    "name": "ipython",
    "version": 3
   },
   "file_extension": ".py",
   "mimetype": "text/x-python",
   "name": "python",
   "nbconvert_exporter": "python",
   "pygments_lexer": "ipython3",
   "version": "3.8.5-final"
  }
 },
 "nbformat": 4,
 "nbformat_minor": 1
}